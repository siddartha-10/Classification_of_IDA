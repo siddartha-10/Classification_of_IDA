{
 "cells": [
  {
   "cell_type": "code",
   "execution_count": 1,
   "id": "694ec4a7",
   "metadata": {},
   "outputs": [],
   "source": [
    "import pandas as pd"
   ]
  },
  {
   "cell_type": "code",
   "execution_count": 2,
   "id": "f1f95727",
   "metadata": {},
   "outputs": [],
   "source": [
    "df = pd.read_csv(\"raw_data.csv\")"
   ]
  },
  {
   "cell_type": "code",
   "execution_count": 3,
   "id": "e2cfcc53",
   "metadata": {},
   "outputs": [
    {
     "data": {
      "text/html": [
       "<div>\n",
       "<style scoped>\n",
       "    .dataframe tbody tr th:only-of-type {\n",
       "        vertical-align: middle;\n",
       "    }\n",
       "\n",
       "    .dataframe tbody tr th {\n",
       "        vertical-align: top;\n",
       "    }\n",
       "\n",
       "    .dataframe thead th {\n",
       "        text-align: right;\n",
       "    }\n",
       "</style>\n",
       "<table border=\"1\" class=\"dataframe\">\n",
       "  <thead>\n",
       "    <tr style=\"text-align: right;\">\n",
       "      <th></th>\n",
       "      <th>SEQN</th>\n",
       "      <th>SDDSRVYR</th>\n",
       "      <th>RIDSTATR</th>\n",
       "      <th>RIAGENDR</th>\n",
       "      <th>RIDAGEYR</th>\n",
       "      <th>RIDAGEMN</th>\n",
       "      <th>RIDRETH1</th>\n",
       "      <th>RIDRETH3</th>\n",
       "      <th>RIDEXMON</th>\n",
       "      <th>DMDBORN4</th>\n",
       "      <th>...</th>\n",
       "      <th>DMDBORN2</th>\n",
       "      <th>DMDSCHOL</th>\n",
       "      <th>DMDHRBR2</th>\n",
       "      <th>AIALANG</th>\n",
       "      <th>DMDBORN</th>\n",
       "      <th>INDHHINC</th>\n",
       "      <th>INDFMINC</th>\n",
       "      <th>DMDHRBRN</th>\n",
       "      <th>RIDRETH2</th>\n",
       "      <th>DMDEDUC</th>\n",
       "    </tr>\n",
       "  </thead>\n",
       "  <tbody>\n",
       "    <tr>\n",
       "      <th>0</th>\n",
       "      <td>109263.0</td>\n",
       "      <td>66.0</td>\n",
       "      <td>2.0</td>\n",
       "      <td>1.0</td>\n",
       "      <td>2.0</td>\n",
       "      <td>NaN</td>\n",
       "      <td>5.0</td>\n",
       "      <td>6.0</td>\n",
       "      <td>2.0</td>\n",
       "      <td>1.0</td>\n",
       "      <td>...</td>\n",
       "      <td>NaN</td>\n",
       "      <td>NaN</td>\n",
       "      <td>NaN</td>\n",
       "      <td>NaN</td>\n",
       "      <td>NaN</td>\n",
       "      <td>NaN</td>\n",
       "      <td>NaN</td>\n",
       "      <td>NaN</td>\n",
       "      <td>NaN</td>\n",
       "      <td>NaN</td>\n",
       "    </tr>\n",
       "    <tr>\n",
       "      <th>1</th>\n",
       "      <td>109264.0</td>\n",
       "      <td>66.0</td>\n",
       "      <td>2.0</td>\n",
       "      <td>2.0</td>\n",
       "      <td>13.0</td>\n",
       "      <td>NaN</td>\n",
       "      <td>1.0</td>\n",
       "      <td>1.0</td>\n",
       "      <td>2.0</td>\n",
       "      <td>1.0</td>\n",
       "      <td>...</td>\n",
       "      <td>NaN</td>\n",
       "      <td>NaN</td>\n",
       "      <td>NaN</td>\n",
       "      <td>NaN</td>\n",
       "      <td>NaN</td>\n",
       "      <td>NaN</td>\n",
       "      <td>NaN</td>\n",
       "      <td>NaN</td>\n",
       "      <td>NaN</td>\n",
       "      <td>NaN</td>\n",
       "    </tr>\n",
       "    <tr>\n",
       "      <th>2</th>\n",
       "      <td>109265.0</td>\n",
       "      <td>66.0</td>\n",
       "      <td>2.0</td>\n",
       "      <td>1.0</td>\n",
       "      <td>2.0</td>\n",
       "      <td>NaN</td>\n",
       "      <td>3.0</td>\n",
       "      <td>3.0</td>\n",
       "      <td>2.0</td>\n",
       "      <td>1.0</td>\n",
       "      <td>...</td>\n",
       "      <td>NaN</td>\n",
       "      <td>NaN</td>\n",
       "      <td>NaN</td>\n",
       "      <td>NaN</td>\n",
       "      <td>NaN</td>\n",
       "      <td>NaN</td>\n",
       "      <td>NaN</td>\n",
       "      <td>NaN</td>\n",
       "      <td>NaN</td>\n",
       "      <td>NaN</td>\n",
       "    </tr>\n",
       "    <tr>\n",
       "      <th>3</th>\n",
       "      <td>109266.0</td>\n",
       "      <td>66.0</td>\n",
       "      <td>2.0</td>\n",
       "      <td>2.0</td>\n",
       "      <td>29.0</td>\n",
       "      <td>NaN</td>\n",
       "      <td>5.0</td>\n",
       "      <td>6.0</td>\n",
       "      <td>2.0</td>\n",
       "      <td>2.0</td>\n",
       "      <td>...</td>\n",
       "      <td>NaN</td>\n",
       "      <td>NaN</td>\n",
       "      <td>NaN</td>\n",
       "      <td>NaN</td>\n",
       "      <td>NaN</td>\n",
       "      <td>NaN</td>\n",
       "      <td>NaN</td>\n",
       "      <td>NaN</td>\n",
       "      <td>NaN</td>\n",
       "      <td>NaN</td>\n",
       "    </tr>\n",
       "    <tr>\n",
       "      <th>4</th>\n",
       "      <td>109267.0</td>\n",
       "      <td>66.0</td>\n",
       "      <td>1.0</td>\n",
       "      <td>2.0</td>\n",
       "      <td>21.0</td>\n",
       "      <td>NaN</td>\n",
       "      <td>2.0</td>\n",
       "      <td>2.0</td>\n",
       "      <td>NaN</td>\n",
       "      <td>2.0</td>\n",
       "      <td>...</td>\n",
       "      <td>NaN</td>\n",
       "      <td>NaN</td>\n",
       "      <td>NaN</td>\n",
       "      <td>NaN</td>\n",
       "      <td>NaN</td>\n",
       "      <td>NaN</td>\n",
       "      <td>NaN</td>\n",
       "      <td>NaN</td>\n",
       "      <td>NaN</td>\n",
       "      <td>NaN</td>\n",
       "    </tr>\n",
       "  </tbody>\n",
       "</table>\n",
       "<p>5 rows × 87 columns</p>\n",
       "</div>"
      ],
      "text/plain": [
       "       SEQN  SDDSRVYR  RIDSTATR  RIAGENDR  RIDAGEYR  RIDAGEMN  RIDRETH1   \n",
       "0  109263.0      66.0       2.0       1.0       2.0       NaN       5.0  \\\n",
       "1  109264.0      66.0       2.0       2.0      13.0       NaN       1.0   \n",
       "2  109265.0      66.0       2.0       1.0       2.0       NaN       3.0   \n",
       "3  109266.0      66.0       2.0       2.0      29.0       NaN       5.0   \n",
       "4  109267.0      66.0       1.0       2.0      21.0       NaN       2.0   \n",
       "\n",
       "   RIDRETH3  RIDEXMON  DMDBORN4  ...  DMDBORN2  DMDSCHOL  DMDHRBR2  AIALANG   \n",
       "0       6.0       2.0       1.0  ...       NaN       NaN       NaN      NaN  \\\n",
       "1       1.0       2.0       1.0  ...       NaN       NaN       NaN      NaN   \n",
       "2       3.0       2.0       1.0  ...       NaN       NaN       NaN      NaN   \n",
       "3       6.0       2.0       2.0  ...       NaN       NaN       NaN      NaN   \n",
       "4       2.0       NaN       2.0  ...       NaN       NaN       NaN      NaN   \n",
       "\n",
       "   DMDBORN  INDHHINC  INDFMINC  DMDHRBRN  RIDRETH2  DMDEDUC  \n",
       "0      NaN       NaN       NaN       NaN       NaN      NaN  \n",
       "1      NaN       NaN       NaN       NaN       NaN      NaN  \n",
       "2      NaN       NaN       NaN       NaN       NaN      NaN  \n",
       "3      NaN       NaN       NaN       NaN       NaN      NaN  \n",
       "4      NaN       NaN       NaN       NaN       NaN      NaN  \n",
       "\n",
       "[5 rows x 87 columns]"
      ]
     },
     "execution_count": 3,
     "metadata": {},
     "output_type": "execute_result"
    }
   ],
   "source": [
    "df.head()"
   ]
  },
  {
   "cell_type": "code",
   "execution_count": 4,
   "id": "ddce65be",
   "metadata": {},
   "outputs": [
    {
     "name": "stdout",
     "output_type": "stream",
     "text": [
      "<class 'pandas.core.frame.DataFrame'>\n",
      "RangeIndex: 66687 entries, 0 to 66686\n",
      "Data columns (total 87 columns):\n",
      " #   Column       Non-Null Count  Dtype  \n",
      "---  ------       --------------  -----  \n",
      " 0   SEQN         66687 non-null  float64\n",
      " 1   SDDSRVYR     66687 non-null  float64\n",
      " 2   RIDSTATR     66687 non-null  float64\n",
      " 3   RIAGENDR     66687 non-null  float64\n",
      " 4   RIDAGEYR     66687 non-null  float64\n",
      " 5   RIDAGEMN     41581 non-null  float64\n",
      " 6   RIDRETH1     66687 non-null  float64\n",
      " 7   RIDRETH3     25531 non-null  float64\n",
      " 8   RIDEXMON     63452 non-null  float64\n",
      " 9   DMDBORN4     25531 non-null  float64\n",
      " 10  DMDYRUSZ     3028 non-null   float64\n",
      " 11  DMDEDUC2     37124 non-null  float64\n",
      " 12  DMDMARTZ     9232 non-null   float64\n",
      " 13  RIDEXPRG     12278 non-null  float64\n",
      " 14  SIALANG      66684 non-null  float64\n",
      " 15  SIAPROXY     66680 non-null  float64\n",
      " 16  SIAINTRP     66684 non-null  float64\n",
      " 17  FIALANG      64831 non-null  float64\n",
      " 18  FIAPROXY     64831 non-null  float64\n",
      " 19  FIAINTRP     64831 non-null  float64\n",
      " 20  MIALANG      46051 non-null  float64\n",
      " 21  MIAPROXY     46052 non-null  float64\n",
      " 22  MIAINTRP     46051 non-null  float64\n",
      " 23  AIALANGA     14186 non-null  float64\n",
      " 24  WTINTPRP     15560 non-null  float64\n",
      " 25  WTMECPRP     15560 non-null  float64\n",
      " 26  SDMVPSU      66687 non-null  float64\n",
      " 27  SDMVSTRA     66687 non-null  float64\n",
      " 28  INDFMPIR     60423 non-null  float64\n",
      " 29  LBXWBCSI     54121 non-null  float64\n",
      " 30  LBXLYPCT     54035 non-null  float64\n",
      " 31  LBXMOPCT     54035 non-null  float64\n",
      " 32  LBXNEPCT     54035 non-null  float64\n",
      " 33  LBXEOPCT     54035 non-null  float64\n",
      " 34  LBXBAPCT     54035 non-null  float64\n",
      " 35  LBDLYMNO     54033 non-null  float64\n",
      " 36  LBDMONO      54033 non-null  float64\n",
      " 37  LBDNENO      54033 non-null  float64\n",
      " 38  LBDEONO      54033 non-null  float64\n",
      " 39  LBDBANO      54033 non-null  float64\n",
      " 40  LBXRBCSI     54123 non-null  float64\n",
      " 41  LBXHGB       54123 non-null  float64\n",
      " 42  LBXHCT       54123 non-null  float64\n",
      " 43  LBXMCVSI     54123 non-null  float64\n",
      " 44  LBXMC        54153 non-null  float64\n",
      " 45  LBXMCHSI     54123 non-null  float64\n",
      " 46  LBXRDW       54123 non-null  float64\n",
      " 47  LBXPLTSI     54123 non-null  float64\n",
      " 48  LBXMPSI      54123 non-null  float64\n",
      " 49  LBXNRBC      12151 non-null  float64\n",
      " 50  LBXFER       24653 non-null  float64\n",
      " 51  LBDFERSI     21672 non-null  float64\n",
      " 52  Survey_Year  66687 non-null  object \n",
      " 53  RIDEXAGM     4060 non-null   float64\n",
      " 54  DMQMILIZ     6149 non-null   float64\n",
      " 55  DMQADFC      527 non-null    float64\n",
      " 56  DMDCITZN     51112 non-null  float64\n",
      " 57  DMDYRSUS     8920 non-null   float64\n",
      " 58  DMDEDUC3     14511 non-null  float64\n",
      " 59  DMDMARTL     31336 non-null  float64\n",
      " 60  DMDHHSIZ     51127 non-null  float64\n",
      " 61  DMDFMSIZ     41005 non-null  float64\n",
      " 62  DMDHHSZA     9971 non-null   float64\n",
      " 63  DMDHHSZB     9971 non-null   float64\n",
      " 64  DMDHHSZE     9971 non-null   float64\n",
      " 65  DMDHRGND     51126 non-null  float64\n",
      " 66  DMDHRAGE     51126 non-null  float64\n",
      " 67  DMDHRBR4     9575 non-null   float64\n",
      " 68  DMDHREDU     49512 non-null  float64\n",
      " 69  DMDHRMAR     49977 non-null  float64\n",
      " 70  DMDHSEDU     27045 non-null  float64\n",
      " 71  WTINT2YR     51127 non-null  float64\n",
      " 72  WTMEC2YR     51127 non-null  float64\n",
      " 73  INDHHIN2     30148 non-null  float64\n",
      " 74  INDFMIN2     30162 non-null  float64\n",
      " 75  RIDAGEEX     38429 non-null  float64\n",
      " 76  DMQMILIT     24860 non-null  float64\n",
      " 77  DMDBORN2     20686 non-null  float64\n",
      " 78  DMDSCHOL     10934 non-null  float64\n",
      " 79  DMDHRBR2     20141 non-null  float64\n",
      " 80  AIALANG      25256 non-null  float64\n",
      " 81  DMDBORN      20470 non-null  float64\n",
      " 82  INDHHINC     19709 non-null  float64\n",
      " 83  INDFMINC     20202 non-null  float64\n",
      " 84  DMDHRBRN     19793 non-null  float64\n",
      " 85  RIDRETH2     10122 non-null  float64\n",
      " 86  DMDEDUC      8378 non-null   float64\n",
      "dtypes: float64(86), object(1)\n",
      "memory usage: 44.3+ MB\n"
     ]
    }
   ],
   "source": [
    "df.info()"
   ]
  },
  {
   "cell_type": "code",
   "execution_count": 5,
   "id": "8b96eab8",
   "metadata": {},
   "outputs": [
    {
     "data": {
      "text/plain": [
       "Index(['SEQN', 'SDDSRVYR', 'RIDSTATR', 'RIAGENDR', 'RIDAGEYR', 'RIDAGEMN',\n",
       "       'RIDRETH1', 'RIDRETH3', 'RIDEXMON', 'DMDBORN4', 'DMDYRUSZ', 'DMDEDUC2',\n",
       "       'DMDMARTZ', 'RIDEXPRG', 'SIALANG', 'SIAPROXY', 'SIAINTRP', 'FIALANG',\n",
       "       'FIAPROXY', 'FIAINTRP', 'MIALANG', 'MIAPROXY', 'MIAINTRP', 'AIALANGA',\n",
       "       'WTINTPRP', 'WTMECPRP', 'SDMVPSU', 'SDMVSTRA', 'INDFMPIR', 'LBXWBCSI',\n",
       "       'LBXLYPCT', 'LBXMOPCT', 'LBXNEPCT', 'LBXEOPCT', 'LBXBAPCT', 'LBDLYMNO',\n",
       "       'LBDMONO', 'LBDNENO', 'LBDEONO', 'LBDBANO', 'LBXRBCSI', 'LBXHGB',\n",
       "       'LBXHCT', 'LBXMCVSI', 'LBXMC', 'LBXMCHSI', 'LBXRDW', 'LBXPLTSI',\n",
       "       'LBXMPSI', 'LBXNRBC', 'LBXFER', 'LBDFERSI', 'Survey_Year', 'RIDEXAGM',\n",
       "       'DMQMILIZ', 'DMQADFC', 'DMDCITZN', 'DMDYRSUS', 'DMDEDUC3', 'DMDMARTL',\n",
       "       'DMDHHSIZ', 'DMDFMSIZ', 'DMDHHSZA', 'DMDHHSZB', 'DMDHHSZE', 'DMDHRGND',\n",
       "       'DMDHRAGE', 'DMDHRBR4', 'DMDHREDU', 'DMDHRMAR', 'DMDHSEDU', 'WTINT2YR',\n",
       "       'WTMEC2YR', 'INDHHIN2', 'INDFMIN2', 'RIDAGEEX', 'DMQMILIT', 'DMDBORN2',\n",
       "       'DMDSCHOL', 'DMDHRBR2', 'AIALANG', 'DMDBORN', 'INDHHINC', 'INDFMINC',\n",
       "       'DMDHRBRN', 'RIDRETH2', 'DMDEDUC'],\n",
       "      dtype='object')"
      ]
     },
     "execution_count": 5,
     "metadata": {},
     "output_type": "execute_result"
    }
   ],
   "source": [
    "df.columns"
   ]
  },
  {
   "cell_type": "code",
   "execution_count": 6,
   "id": "8a7c13b7",
   "metadata": {},
   "outputs": [],
   "source": [
    "columns= ['SEQN','RIAGENDR', 'RIDAGEYR', 'RIDEXPRG', 'LBXWBCSI', 'LBXLYPCT', 'LBXMOPCT',\n",
    "                   'LBXNEPCT', 'LBXEOPCT', 'LBXBAPCT', 'LBDLYMNO', 'LBDMONO', 'LBDNENO', 'LBDEONO',\n",
    "                   'LBDBANO', 'LBXRBCSI', 'LBXHGB', 'LBXHCT', 'LBXMCVSI', 'LBXMC', 'LBXMCHSI', \n",
    "                   'LBXRDW', 'LBXPLTSI', 'LBXMPSI', 'LBXNRBC', 'LBXFER', 'Survey_Year']"
   ]
  },
  {
   "cell_type": "code",
   "execution_count": 7,
   "id": "13eb6521",
   "metadata": {},
   "outputs": [
    {
     "name": "stdout",
     "output_type": "stream",
     "text": [
      "<class 'pandas.core.frame.DataFrame'>\n",
      "RangeIndex: 66687 entries, 0 to 66686\n",
      "Data columns (total 27 columns):\n",
      " #   Column       Non-Null Count  Dtype  \n",
      "---  ------       --------------  -----  \n",
      " 0   SEQN         66687 non-null  float64\n",
      " 1   RIAGENDR     66687 non-null  float64\n",
      " 2   RIDAGEYR     66687 non-null  float64\n",
      " 3   RIDEXPRG     12278 non-null  float64\n",
      " 4   LBXWBCSI     54121 non-null  float64\n",
      " 5   LBXLYPCT     54035 non-null  float64\n",
      " 6   LBXMOPCT     54035 non-null  float64\n",
      " 7   LBXNEPCT     54035 non-null  float64\n",
      " 8   LBXEOPCT     54035 non-null  float64\n",
      " 9   LBXBAPCT     54035 non-null  float64\n",
      " 10  LBDLYMNO     54033 non-null  float64\n",
      " 11  LBDMONO      54033 non-null  float64\n",
      " 12  LBDNENO      54033 non-null  float64\n",
      " 13  LBDEONO      54033 non-null  float64\n",
      " 14  LBDBANO      54033 non-null  float64\n",
      " 15  LBXRBCSI     54123 non-null  float64\n",
      " 16  LBXHGB       54123 non-null  float64\n",
      " 17  LBXHCT       54123 non-null  float64\n",
      " 18  LBXMCVSI     54123 non-null  float64\n",
      " 19  LBXMC        54153 non-null  float64\n",
      " 20  LBXMCHSI     54123 non-null  float64\n",
      " 21  LBXRDW       54123 non-null  float64\n",
      " 22  LBXPLTSI     54123 non-null  float64\n",
      " 23  LBXMPSI      54123 non-null  float64\n",
      " 24  LBXNRBC      12151 non-null  float64\n",
      " 25  LBXFER       24653 non-null  float64\n",
      " 26  Survey_Year  66687 non-null  object \n",
      "dtypes: float64(26), object(1)\n",
      "memory usage: 13.7+ MB\n"
     ]
    }
   ],
   "source": [
    "df = df[columns]\n",
    "df.info()"
   ]
  },
  {
   "cell_type": "code",
   "execution_count": 8,
   "id": "fec3e674",
   "metadata": {},
   "outputs": [
    {
     "data": {
      "text/html": [
       "<div>\n",
       "<style scoped>\n",
       "    .dataframe tbody tr th:only-of-type {\n",
       "        vertical-align: middle;\n",
       "    }\n",
       "\n",
       "    .dataframe tbody tr th {\n",
       "        vertical-align: top;\n",
       "    }\n",
       "\n",
       "    .dataframe thead th {\n",
       "        text-align: right;\n",
       "    }\n",
       "</style>\n",
       "<table border=\"1\" class=\"dataframe\">\n",
       "  <thead>\n",
       "    <tr style=\"text-align: right;\">\n",
       "      <th></th>\n",
       "      <th>SEQN</th>\n",
       "      <th>RIAGENDR</th>\n",
       "      <th>RIDAGEYR</th>\n",
       "      <th>RIDEXPRG</th>\n",
       "      <th>LBXWBCSI</th>\n",
       "      <th>LBXLYPCT</th>\n",
       "      <th>LBXMOPCT</th>\n",
       "      <th>LBXNEPCT</th>\n",
       "      <th>LBXEOPCT</th>\n",
       "      <th>LBXBAPCT</th>\n",
       "      <th>...</th>\n",
       "      <th>LBXHCT</th>\n",
       "      <th>LBXMCVSI</th>\n",
       "      <th>LBXMC</th>\n",
       "      <th>LBXMCHSI</th>\n",
       "      <th>LBXRDW</th>\n",
       "      <th>LBXPLTSI</th>\n",
       "      <th>LBXMPSI</th>\n",
       "      <th>LBXNRBC</th>\n",
       "      <th>LBXFER</th>\n",
       "      <th>Survey_Year</th>\n",
       "    </tr>\n",
       "  </thead>\n",
       "  <tbody>\n",
       "    <tr>\n",
       "      <th>0</th>\n",
       "      <td>109263.0</td>\n",
       "      <td>1.0</td>\n",
       "      <td>2.0</td>\n",
       "      <td>NaN</td>\n",
       "      <td>NaN</td>\n",
       "      <td>NaN</td>\n",
       "      <td>NaN</td>\n",
       "      <td>NaN</td>\n",
       "      <td>NaN</td>\n",
       "      <td>NaN</td>\n",
       "      <td>...</td>\n",
       "      <td>NaN</td>\n",
       "      <td>NaN</td>\n",
       "      <td>NaN</td>\n",
       "      <td>NaN</td>\n",
       "      <td>NaN</td>\n",
       "      <td>NaN</td>\n",
       "      <td>NaN</td>\n",
       "      <td>NaN</td>\n",
       "      <td>NaN</td>\n",
       "      <td>2017-2020</td>\n",
       "    </tr>\n",
       "    <tr>\n",
       "      <th>1</th>\n",
       "      <td>109264.0</td>\n",
       "      <td>2.0</td>\n",
       "      <td>13.0</td>\n",
       "      <td>NaN</td>\n",
       "      <td>4.5</td>\n",
       "      <td>45.6</td>\n",
       "      <td>6.2</td>\n",
       "      <td>46.4</td>\n",
       "      <td>1.4</td>\n",
       "      <td>0.5</td>\n",
       "      <td>...</td>\n",
       "      <td>40.5</td>\n",
       "      <td>84.3</td>\n",
       "      <td>33.7</td>\n",
       "      <td>28.4</td>\n",
       "      <td>13.1</td>\n",
       "      <td>263.0</td>\n",
       "      <td>8.2</td>\n",
       "      <td>0.1</td>\n",
       "      <td>15.7</td>\n",
       "      <td>2017-2020</td>\n",
       "    </tr>\n",
       "    <tr>\n",
       "      <th>2</th>\n",
       "      <td>109265.0</td>\n",
       "      <td>1.0</td>\n",
       "      <td>2.0</td>\n",
       "      <td>NaN</td>\n",
       "      <td>9.5</td>\n",
       "      <td>46.4</td>\n",
       "      <td>10.9</td>\n",
       "      <td>39.2</td>\n",
       "      <td>2.9</td>\n",
       "      <td>0.7</td>\n",
       "      <td>...</td>\n",
       "      <td>36.6</td>\n",
       "      <td>81.2</td>\n",
       "      <td>34.4</td>\n",
       "      <td>27.9</td>\n",
       "      <td>13.1</td>\n",
       "      <td>286.0</td>\n",
       "      <td>6.6</td>\n",
       "      <td>0.1</td>\n",
       "      <td>42.1</td>\n",
       "      <td>2017-2020</td>\n",
       "    </tr>\n",
       "    <tr>\n",
       "      <th>3</th>\n",
       "      <td>109266.0</td>\n",
       "      <td>2.0</td>\n",
       "      <td>29.0</td>\n",
       "      <td>2.0</td>\n",
       "      <td>7.8</td>\n",
       "      <td>34.5</td>\n",
       "      <td>6.0</td>\n",
       "      <td>58.3</td>\n",
       "      <td>0.8</td>\n",
       "      <td>0.5</td>\n",
       "      <td>...</td>\n",
       "      <td>36.5</td>\n",
       "      <td>83.7</td>\n",
       "      <td>33.6</td>\n",
       "      <td>28.1</td>\n",
       "      <td>14.0</td>\n",
       "      <td>314.0</td>\n",
       "      <td>6.9</td>\n",
       "      <td>0.1</td>\n",
       "      <td>11.6</td>\n",
       "      <td>2017-2020</td>\n",
       "    </tr>\n",
       "    <tr>\n",
       "      <th>4</th>\n",
       "      <td>109267.0</td>\n",
       "      <td>2.0</td>\n",
       "      <td>21.0</td>\n",
       "      <td>3.0</td>\n",
       "      <td>NaN</td>\n",
       "      <td>NaN</td>\n",
       "      <td>NaN</td>\n",
       "      <td>NaN</td>\n",
       "      <td>NaN</td>\n",
       "      <td>NaN</td>\n",
       "      <td>...</td>\n",
       "      <td>NaN</td>\n",
       "      <td>NaN</td>\n",
       "      <td>NaN</td>\n",
       "      <td>NaN</td>\n",
       "      <td>NaN</td>\n",
       "      <td>NaN</td>\n",
       "      <td>NaN</td>\n",
       "      <td>NaN</td>\n",
       "      <td>NaN</td>\n",
       "      <td>2017-2020</td>\n",
       "    </tr>\n",
       "  </tbody>\n",
       "</table>\n",
       "<p>5 rows × 27 columns</p>\n",
       "</div>"
      ],
      "text/plain": [
       "       SEQN  RIAGENDR  RIDAGEYR  RIDEXPRG  LBXWBCSI  LBXLYPCT  LBXMOPCT   \n",
       "0  109263.0       1.0       2.0       NaN       NaN       NaN       NaN  \\\n",
       "1  109264.0       2.0      13.0       NaN       4.5      45.6       6.2   \n",
       "2  109265.0       1.0       2.0       NaN       9.5      46.4      10.9   \n",
       "3  109266.0       2.0      29.0       2.0       7.8      34.5       6.0   \n",
       "4  109267.0       2.0      21.0       3.0       NaN       NaN       NaN   \n",
       "\n",
       "   LBXNEPCT  LBXEOPCT  LBXBAPCT  ...  LBXHCT  LBXMCVSI  LBXMC  LBXMCHSI   \n",
       "0       NaN       NaN       NaN  ...     NaN       NaN    NaN       NaN  \\\n",
       "1      46.4       1.4       0.5  ...    40.5      84.3   33.7      28.4   \n",
       "2      39.2       2.9       0.7  ...    36.6      81.2   34.4      27.9   \n",
       "3      58.3       0.8       0.5  ...    36.5      83.7   33.6      28.1   \n",
       "4       NaN       NaN       NaN  ...     NaN       NaN    NaN       NaN   \n",
       "\n",
       "   LBXRDW  LBXPLTSI  LBXMPSI  LBXNRBC  LBXFER  Survey_Year  \n",
       "0     NaN       NaN      NaN      NaN     NaN    2017-2020  \n",
       "1    13.1     263.0      8.2      0.1    15.7    2017-2020  \n",
       "2    13.1     286.0      6.6      0.1    42.1    2017-2020  \n",
       "3    14.0     314.0      6.9      0.1    11.6    2017-2020  \n",
       "4     NaN       NaN      NaN      NaN     NaN    2017-2020  \n",
       "\n",
       "[5 rows x 27 columns]"
      ]
     },
     "execution_count": 8,
     "metadata": {},
     "output_type": "execute_result"
    }
   ],
   "source": [
    "df.head()"
   ]
  },
  {
   "cell_type": "code",
   "execution_count": 9,
   "id": "d865ee05",
   "metadata": {},
   "outputs": [
    {
     "name": "stdout",
     "output_type": "stream",
     "text": [
      "<class 'pandas.core.frame.DataFrame'>\n",
      "Index: 54123 entries, 1 to 66686\n",
      "Data columns (total 27 columns):\n",
      " #   Column       Non-Null Count  Dtype  \n",
      "---  ------       --------------  -----  \n",
      " 0   SEQN         54123 non-null  float64\n",
      " 1   RIAGENDR     54123 non-null  float64\n",
      " 2   RIDAGEYR     54123 non-null  float64\n",
      " 3   RIDEXPRG     11044 non-null  float64\n",
      " 4   LBXWBCSI     54121 non-null  float64\n",
      " 5   LBXLYPCT     54035 non-null  float64\n",
      " 6   LBXMOPCT     54035 non-null  float64\n",
      " 7   LBXNEPCT     54035 non-null  float64\n",
      " 8   LBXEOPCT     54035 non-null  float64\n",
      " 9   LBXBAPCT     54035 non-null  float64\n",
      " 10  LBDLYMNO     54033 non-null  float64\n",
      " 11  LBDMONO      54033 non-null  float64\n",
      " 12  LBDNENO      54033 non-null  float64\n",
      " 13  LBDEONO      54033 non-null  float64\n",
      " 14  LBDBANO      54033 non-null  float64\n",
      " 15  LBXRBCSI     54123 non-null  float64\n",
      " 16  LBXHGB       54123 non-null  float64\n",
      " 17  LBXHCT       54123 non-null  float64\n",
      " 18  LBXMCVSI     54123 non-null  float64\n",
      " 19  LBXMC        54123 non-null  float64\n",
      " 20  LBXMCHSI     54123 non-null  float64\n",
      " 21  LBXRDW       54123 non-null  float64\n",
      " 22  LBXPLTSI     54123 non-null  float64\n",
      " 23  LBXMPSI      54123 non-null  float64\n",
      " 24  LBXNRBC      12151 non-null  float64\n",
      " 25  LBXFER       24610 non-null  float64\n",
      " 26  Survey_Year  54123 non-null  object \n",
      "dtypes: float64(26), object(1)\n",
      "memory usage: 11.6+ MB\n"
     ]
    }
   ],
   "source": [
    "df = df.dropna(subset=['LBXHGB'])\n",
    "df.info()"
   ]
  },
  {
   "cell_type": "code",
   "execution_count": 10,
   "id": "855ce0b9",
   "metadata": {},
   "outputs": [
    {
     "name": "stdout",
     "output_type": "stream",
     "text": [
      "<class 'pandas.core.frame.DataFrame'>\n",
      "Index: 24610 entries, 1 to 66678\n",
      "Data columns (total 27 columns):\n",
      " #   Column       Non-Null Count  Dtype  \n",
      "---  ------       --------------  -----  \n",
      " 0   SEQN         24610 non-null  float64\n",
      " 1   RIAGENDR     24610 non-null  float64\n",
      " 2   RIDAGEYR     24610 non-null  float64\n",
      " 3   RIDEXPRG     9700 non-null   float64\n",
      " 4   LBXWBCSI     24608 non-null  float64\n",
      " 5   LBXLYPCT     24566 non-null  float64\n",
      " 6   LBXMOPCT     24566 non-null  float64\n",
      " 7   LBXNEPCT     24566 non-null  float64\n",
      " 8   LBXEOPCT     24566 non-null  float64\n",
      " 9   LBXBAPCT     24566 non-null  float64\n",
      " 10  LBDLYMNO     24564 non-null  float64\n",
      " 11  LBDMONO      24564 non-null  float64\n",
      " 12  LBDNENO      24564 non-null  float64\n",
      " 13  LBDEONO      24564 non-null  float64\n",
      " 14  LBDBANO      24564 non-null  float64\n",
      " 15  LBXRBCSI     24610 non-null  float64\n",
      " 16  LBXHGB       24610 non-null  float64\n",
      " 17  LBXHCT       24610 non-null  float64\n",
      " 18  LBXMCVSI     24610 non-null  float64\n",
      " 19  LBXMC        24610 non-null  float64\n",
      " 20  LBXMCHSI     24610 non-null  float64\n",
      " 21  LBXRDW       24610 non-null  float64\n",
      " 22  LBXPLTSI     24610 non-null  float64\n",
      " 23  LBXMPSI      24610 non-null  float64\n",
      " 24  LBXNRBC      10541 non-null  float64\n",
      " 25  LBXFER       24610 non-null  float64\n",
      " 26  Survey_Year  24610 non-null  object \n",
      "dtypes: float64(26), object(1)\n",
      "memory usage: 5.3+ MB\n"
     ]
    }
   ],
   "source": [
    "df = df.dropna(subset=['LBXFER'])\n",
    "df.info()"
   ]
  },
  {
   "cell_type": "code",
   "execution_count": 11,
   "id": "c38e592a",
   "metadata": {},
   "outputs": [
    {
     "name": "stdout",
     "output_type": "stream",
     "text": [
      "[nan  2.  1.  3.]\n"
     ]
    }
   ],
   "source": [
    "unique_values = df['RIDEXPRG'].unique()\n",
    "print(unique_values)"
   ]
  },
  {
   "cell_type": "code",
   "execution_count": 12,
   "id": "2ddbcdf0",
   "metadata": {},
   "outputs": [],
   "source": [
    "def convert_value(value):\n",
    "    if pd.isna(value):\n",
    "        return 0\n",
    "    elif value == 1:\n",
    "        return 1\n",
    "    else:\n",
    "        return 0"
   ]
  },
  {
   "cell_type": "code",
   "execution_count": 13,
   "id": "d93f7e7e",
   "metadata": {},
   "outputs": [],
   "source": [
    "df['RIDEXPRG'] = df['RIDEXPRG'].apply(convert_value)"
   ]
  },
  {
   "cell_type": "code",
   "execution_count": 14,
   "id": "c055dae5",
   "metadata": {},
   "outputs": [
    {
     "name": "stdout",
     "output_type": "stream",
     "text": [
      "[0 1]\n",
      "<class 'pandas.core.frame.DataFrame'>\n",
      "Index: 24610 entries, 1 to 66678\n",
      "Data columns (total 27 columns):\n",
      " #   Column       Non-Null Count  Dtype  \n",
      "---  ------       --------------  -----  \n",
      " 0   SEQN         24610 non-null  float64\n",
      " 1   RIAGENDR     24610 non-null  float64\n",
      " 2   RIDAGEYR     24610 non-null  float64\n",
      " 3   RIDEXPRG     24610 non-null  int64  \n",
      " 4   LBXWBCSI     24608 non-null  float64\n",
      " 5   LBXLYPCT     24566 non-null  float64\n",
      " 6   LBXMOPCT     24566 non-null  float64\n",
      " 7   LBXNEPCT     24566 non-null  float64\n",
      " 8   LBXEOPCT     24566 non-null  float64\n",
      " 9   LBXBAPCT     24566 non-null  float64\n",
      " 10  LBDLYMNO     24564 non-null  float64\n",
      " 11  LBDMONO      24564 non-null  float64\n",
      " 12  LBDNENO      24564 non-null  float64\n",
      " 13  LBDEONO      24564 non-null  float64\n",
      " 14  LBDBANO      24564 non-null  float64\n",
      " 15  LBXRBCSI     24610 non-null  float64\n",
      " 16  LBXHGB       24610 non-null  float64\n",
      " 17  LBXHCT       24610 non-null  float64\n",
      " 18  LBXMCVSI     24610 non-null  float64\n",
      " 19  LBXMC        24610 non-null  float64\n",
      " 20  LBXMCHSI     24610 non-null  float64\n",
      " 21  LBXRDW       24610 non-null  float64\n",
      " 22  LBXPLTSI     24610 non-null  float64\n",
      " 23  LBXMPSI      24610 non-null  float64\n",
      " 24  LBXNRBC      10541 non-null  float64\n",
      " 25  LBXFER       24610 non-null  float64\n",
      " 26  Survey_Year  24610 non-null  object \n",
      "dtypes: float64(25), int64(1), object(1)\n",
      "memory usage: 5.3+ MB\n"
     ]
    }
   ],
   "source": [
    "print(df['RIDEXPRG'].unique())\n",
    "df.info()"
   ]
  },
  {
   "cell_type": "code",
   "execution_count": 15,
   "id": "258ba945",
   "metadata": {},
   "outputs": [],
   "source": [
    "df = df.drop(columns=['LBXNRBC'])"
   ]
  },
  {
   "cell_type": "code",
   "execution_count": 16,
   "id": "fe5ea327",
   "metadata": {},
   "outputs": [
    {
     "name": "stdout",
     "output_type": "stream",
     "text": [
      "<class 'pandas.core.frame.DataFrame'>\n",
      "Index: 24610 entries, 1 to 66678\n",
      "Data columns (total 26 columns):\n",
      " #   Column       Non-Null Count  Dtype  \n",
      "---  ------       --------------  -----  \n",
      " 0   SEQN         24610 non-null  float64\n",
      " 1   RIAGENDR     24610 non-null  float64\n",
      " 2   RIDAGEYR     24610 non-null  float64\n",
      " 3   RIDEXPRG     24610 non-null  int64  \n",
      " 4   LBXWBCSI     24608 non-null  float64\n",
      " 5   LBXLYPCT     24566 non-null  float64\n",
      " 6   LBXMOPCT     24566 non-null  float64\n",
      " 7   LBXNEPCT     24566 non-null  float64\n",
      " 8   LBXEOPCT     24566 non-null  float64\n",
      " 9   LBXBAPCT     24566 non-null  float64\n",
      " 10  LBDLYMNO     24564 non-null  float64\n",
      " 11  LBDMONO      24564 non-null  float64\n",
      " 12  LBDNENO      24564 non-null  float64\n",
      " 13  LBDEONO      24564 non-null  float64\n",
      " 14  LBDBANO      24564 non-null  float64\n",
      " 15  LBXRBCSI     24610 non-null  float64\n",
      " 16  LBXHGB       24610 non-null  float64\n",
      " 17  LBXHCT       24610 non-null  float64\n",
      " 18  LBXMCVSI     24610 non-null  float64\n",
      " 19  LBXMC        24610 non-null  float64\n",
      " 20  LBXMCHSI     24610 non-null  float64\n",
      " 21  LBXRDW       24610 non-null  float64\n",
      " 22  LBXPLTSI     24610 non-null  float64\n",
      " 23  LBXMPSI      24610 non-null  float64\n",
      " 24  LBXFER       24610 non-null  float64\n",
      " 25  Survey_Year  24610 non-null  object \n",
      "dtypes: float64(24), int64(1), object(1)\n",
      "memory usage: 5.1+ MB\n"
     ]
    }
   ],
   "source": [
    "df.info()"
   ]
  },
  {
   "cell_type": "code",
   "execution_count": 17,
   "id": "d0fc164e",
   "metadata": {},
   "outputs": [],
   "source": [
    "df = df.dropna(how='any')"
   ]
  },
  {
   "cell_type": "code",
   "execution_count": 18,
   "id": "a9bc6054",
   "metadata": {},
   "outputs": [
    {
     "name": "stdout",
     "output_type": "stream",
     "text": [
      "<class 'pandas.core.frame.DataFrame'>\n",
      "Index: 24564 entries, 1 to 66678\n",
      "Data columns (total 26 columns):\n",
      " #   Column       Non-Null Count  Dtype  \n",
      "---  ------       --------------  -----  \n",
      " 0   SEQN         24564 non-null  float64\n",
      " 1   RIAGENDR     24564 non-null  float64\n",
      " 2   RIDAGEYR     24564 non-null  float64\n",
      " 3   RIDEXPRG     24564 non-null  int64  \n",
      " 4   LBXWBCSI     24564 non-null  float64\n",
      " 5   LBXLYPCT     24564 non-null  float64\n",
      " 6   LBXMOPCT     24564 non-null  float64\n",
      " 7   LBXNEPCT     24564 non-null  float64\n",
      " 8   LBXEOPCT     24564 non-null  float64\n",
      " 9   LBXBAPCT     24564 non-null  float64\n",
      " 10  LBDLYMNO     24564 non-null  float64\n",
      " 11  LBDMONO      24564 non-null  float64\n",
      " 12  LBDNENO      24564 non-null  float64\n",
      " 13  LBDEONO      24564 non-null  float64\n",
      " 14  LBDBANO      24564 non-null  float64\n",
      " 15  LBXRBCSI     24564 non-null  float64\n",
      " 16  LBXHGB       24564 non-null  float64\n",
      " 17  LBXHCT       24564 non-null  float64\n",
      " 18  LBXMCVSI     24564 non-null  float64\n",
      " 19  LBXMC        24564 non-null  float64\n",
      " 20  LBXMCHSI     24564 non-null  float64\n",
      " 21  LBXRDW       24564 non-null  float64\n",
      " 22  LBXPLTSI     24564 non-null  float64\n",
      " 23  LBXMPSI      24564 non-null  float64\n",
      " 24  LBXFER       24564 non-null  float64\n",
      " 25  Survey_Year  24564 non-null  object \n",
      "dtypes: float64(24), int64(1), object(1)\n",
      "memory usage: 5.1+ MB\n"
     ]
    }
   ],
   "source": [
    "df.info()"
   ]
  },
  {
   "cell_type": "code",
   "execution_count": 19,
   "id": "3481e496",
   "metadata": {},
   "outputs": [],
   "source": [
    "# Assuming df is the DataFrame you want to save\n",
    "output_path = r\"new_nhanes_cleaned_data.csv\"\n",
    "\n",
    "# Save the DataFrame to a CSV file\n",
    "df.to_csv(output_path, index=False)"
   ]
  },
  {
   "cell_type": "code",
   "execution_count": 20,
   "id": "2d86802e",
   "metadata": {},
   "outputs": [
    {
     "name": "stdout",
     "output_type": "stream",
     "text": [
      "DataFrame saved to: new_nhanes_cleaned_data.csv\n"
     ]
    }
   ],
   "source": [
    "print(f\"DataFrame saved to: {output_path}\")"
   ]
  },
  {
   "cell_type": "code",
   "execution_count": 21,
   "id": "9636e2ca",
   "metadata": {},
   "outputs": [],
   "source": [
    "# 1 male 2 female\n",
    "# 1 preg 0 non-preg\n",
    "def fun(df):\n",
    "    if df['RIAGENDR'] == 1:\n",
    "        if(df['RIDAGEYR']>=15 and df['LBXHGB']<13): # males age 15 and above hgb less than 13 so anemic\n",
    "            return \"Anemic\"\n",
    "        else: # males age 15 and above hgb greater than so anemic\n",
    "            return \"Non-Anemic\"\n",
    "    elif(df['RIAGENDR']==2 and df['RIDAGEYR']>=15):\n",
    "        # hceck if preg\n",
    "        if(df['RIDEXPRG']==1 and df['LBXHGB']<11):\n",
    "            return \"Anemic\"\n",
    "        elif(df['RIDEXPRG']==1 and df['LBXHGB']>=11):\n",
    "            return \"Non-Anemic\"\n",
    "        elif(df['RIDEXPRG']==0 and df['LBXHGB']<12):\n",
    "            return \"Anemic\"\n",
    "        elif(df['RIDEXPRG']==0 and df['LBXHGB']>=12):\n",
    "            return \"Non-Anemic\"\n",
    "    else:\n",
    "        if(df['RIDAGEYR']>=12 and df['RIDAGEYR']<=14):\n",
    "            if(df['LBXHGB']<12):\n",
    "                return \"Anemic\"\n",
    "            else:\n",
    "                return \"Non-Anemic\"\n",
    "        elif(df['RIDAGEYR']>=5 and df['RIDAGEYR']<=11):\n",
    "            if(df['LBXHGB']<11.5):\n",
    "                return \"Anemic\"\n",
    "            else:\n",
    "                return \"Non-Anemic\"\n",
    "        elif(df['RIDAGEYR']>=1 and df['RIDAGEYR']<=4):\n",
    "            if(df['LBXHGB']<11):\n",
    "                return \"Anemic\"\n",
    "            else:\n",
    "                return \"Non-Anemic\""
   ]
  },
  {
   "cell_type": "code",
   "execution_count": 22,
   "id": "cb58ed4d",
   "metadata": {},
   "outputs": [
    {
     "name": "stdout",
     "output_type": "stream",
     "text": [
      "<class 'pandas.core.frame.DataFrame'>\n",
      "Index: 24564 entries, 1 to 66678\n",
      "Data columns (total 27 columns):\n",
      " #   Column         Non-Null Count  Dtype  \n",
      "---  ------         --------------  -----  \n",
      " 0   SEQN           24564 non-null  float64\n",
      " 1   RIAGENDR       24564 non-null  float64\n",
      " 2   RIDAGEYR       24564 non-null  float64\n",
      " 3   RIDEXPRG       24564 non-null  int64  \n",
      " 4   LBXWBCSI       24564 non-null  float64\n",
      " 5   LBXLYPCT       24564 non-null  float64\n",
      " 6   LBXMOPCT       24564 non-null  float64\n",
      " 7   LBXNEPCT       24564 non-null  float64\n",
      " 8   LBXEOPCT       24564 non-null  float64\n",
      " 9   LBXBAPCT       24564 non-null  float64\n",
      " 10  LBDLYMNO       24564 non-null  float64\n",
      " 11  LBDMONO        24564 non-null  float64\n",
      " 12  LBDNENO        24564 non-null  float64\n",
      " 13  LBDEONO        24564 non-null  float64\n",
      " 14  LBDBANO        24564 non-null  float64\n",
      " 15  LBXRBCSI       24564 non-null  float64\n",
      " 16  LBXHGB         24564 non-null  float64\n",
      " 17  LBXHCT         24564 non-null  float64\n",
      " 18  LBXMCVSI       24564 non-null  float64\n",
      " 19  LBXMC          24564 non-null  float64\n",
      " 20  LBXMCHSI       24564 non-null  float64\n",
      " 21  LBXRDW         24564 non-null  float64\n",
      " 22  LBXPLTSI       24564 non-null  float64\n",
      " 23  LBXMPSI        24564 non-null  float64\n",
      " 24  LBXFER         24564 non-null  float64\n",
      " 25  Survey_Year    24564 non-null  object \n",
      " 26  Anemia_status  24564 non-null  object \n",
      "dtypes: float64(24), int64(1), object(2)\n",
      "memory usage: 5.2+ MB\n"
     ]
    }
   ],
   "source": [
    "df['Anemia_status'] = df.apply(fun,axis=1)\n",
    "df.info()"
   ]
  },
  {
   "cell_type": "code",
   "execution_count": 23,
   "id": "4351707a",
   "metadata": {},
   "outputs": [],
   "source": [
    "def iron(df):\n",
    "    if(df['RIDAGEYR']<5):\n",
    "        if(df['LBXFER']<12):\n",
    "            return \"ID\"\n",
    "        else:\n",
    "            return \"Non-ID\"\n",
    "    if(df['RIDAGEYR']>=5):\n",
    "        if(df['LBXFER']<15):\n",
    "            return \"ID\"\n",
    "        else:\n",
    "            return \"Non-ID\""
   ]
  },
  {
   "cell_type": "code",
   "execution_count": 24,
   "id": "f57887e2",
   "metadata": {},
   "outputs": [
    {
     "name": "stdout",
     "output_type": "stream",
     "text": [
      "<class 'pandas.core.frame.DataFrame'>\n",
      "Index: 24564 entries, 1 to 66678\n",
      "Data columns (total 28 columns):\n",
      " #   Column         Non-Null Count  Dtype  \n",
      "---  ------         --------------  -----  \n",
      " 0   SEQN           24564 non-null  float64\n",
      " 1   RIAGENDR       24564 non-null  float64\n",
      " 2   RIDAGEYR       24564 non-null  float64\n",
      " 3   RIDEXPRG       24564 non-null  int64  \n",
      " 4   LBXWBCSI       24564 non-null  float64\n",
      " 5   LBXLYPCT       24564 non-null  float64\n",
      " 6   LBXMOPCT       24564 non-null  float64\n",
      " 7   LBXNEPCT       24564 non-null  float64\n",
      " 8   LBXEOPCT       24564 non-null  float64\n",
      " 9   LBXBAPCT       24564 non-null  float64\n",
      " 10  LBDLYMNO       24564 non-null  float64\n",
      " 11  LBDMONO        24564 non-null  float64\n",
      " 12  LBDNENO        24564 non-null  float64\n",
      " 13  LBDEONO        24564 non-null  float64\n",
      " 14  LBDBANO        24564 non-null  float64\n",
      " 15  LBXRBCSI       24564 non-null  float64\n",
      " 16  LBXHGB         24564 non-null  float64\n",
      " 17  LBXHCT         24564 non-null  float64\n",
      " 18  LBXMCVSI       24564 non-null  float64\n",
      " 19  LBXMC          24564 non-null  float64\n",
      " 20  LBXMCHSI       24564 non-null  float64\n",
      " 21  LBXRDW         24564 non-null  float64\n",
      " 22  LBXPLTSI       24564 non-null  float64\n",
      " 23  LBXMPSI        24564 non-null  float64\n",
      " 24  LBXFER         24564 non-null  float64\n",
      " 25  Survey_Year    24564 non-null  object \n",
      " 26  Anemia_status  24564 non-null  object \n",
      " 27  ID_status      24564 non-null  object \n",
      "dtypes: float64(24), int64(1), object(3)\n",
      "memory usage: 5.4+ MB\n"
     ]
    }
   ],
   "source": [
    "df['ID_status'] = df.apply(iron,axis=1)\n",
    "df.info()"
   ]
  },
  {
   "cell_type": "code",
   "execution_count": 25,
   "id": "e893a4f1",
   "metadata": {},
   "outputs": [],
   "source": [
    "def ida(df):\n",
    "    if(df['Anemia_status']==\"Anemic\" and df['ID_status']==\"ID\"):\n",
    "        return \"IDA\"\n",
    "    else:\n",
    "        return \"Non-IDA\""
   ]
  },
  {
   "cell_type": "code",
   "execution_count": 26,
   "id": "1c526fe1",
   "metadata": {},
   "outputs": [
    {
     "name": "stdout",
     "output_type": "stream",
     "text": [
      "<class 'pandas.core.frame.DataFrame'>\n",
      "Index: 24564 entries, 1 to 66678\n",
      "Data columns (total 29 columns):\n",
      " #   Column         Non-Null Count  Dtype  \n",
      "---  ------         --------------  -----  \n",
      " 0   SEQN           24564 non-null  float64\n",
      " 1   RIAGENDR       24564 non-null  float64\n",
      " 2   RIDAGEYR       24564 non-null  float64\n",
      " 3   RIDEXPRG       24564 non-null  int64  \n",
      " 4   LBXWBCSI       24564 non-null  float64\n",
      " 5   LBXLYPCT       24564 non-null  float64\n",
      " 6   LBXMOPCT       24564 non-null  float64\n",
      " 7   LBXNEPCT       24564 non-null  float64\n",
      " 8   LBXEOPCT       24564 non-null  float64\n",
      " 9   LBXBAPCT       24564 non-null  float64\n",
      " 10  LBDLYMNO       24564 non-null  float64\n",
      " 11  LBDMONO        24564 non-null  float64\n",
      " 12  LBDNENO        24564 non-null  float64\n",
      " 13  LBDEONO        24564 non-null  float64\n",
      " 14  LBDBANO        24564 non-null  float64\n",
      " 15  LBXRBCSI       24564 non-null  float64\n",
      " 16  LBXHGB         24564 non-null  float64\n",
      " 17  LBXHCT         24564 non-null  float64\n",
      " 18  LBXMCVSI       24564 non-null  float64\n",
      " 19  LBXMC          24564 non-null  float64\n",
      " 20  LBXMCHSI       24564 non-null  float64\n",
      " 21  LBXRDW         24564 non-null  float64\n",
      " 22  LBXPLTSI       24564 non-null  float64\n",
      " 23  LBXMPSI        24564 non-null  float64\n",
      " 24  LBXFER         24564 non-null  float64\n",
      " 25  Survey_Year    24564 non-null  object \n",
      " 26  Anemia_status  24564 non-null  object \n",
      " 27  ID_status      24564 non-null  object \n",
      " 28  IDA_status     24564 non-null  object \n",
      "dtypes: float64(24), int64(1), object(4)\n",
      "memory usage: 5.6+ MB\n"
     ]
    }
   ],
   "source": [
    "df['IDA_status'] = df.apply(ida,axis=1)\n",
    "df.info()"
   ]
  },
  {
   "cell_type": "code",
   "execution_count": 27,
   "id": "c5334a6d",
   "metadata": {},
   "outputs": [
    {
     "data": {
      "text/plain": [
       "IDA_status\n",
       "Non-IDA    23531\n",
       "IDA         1033\n",
       "Name: count, dtype: int64"
      ]
     },
     "execution_count": 27,
     "metadata": {},
     "output_type": "execute_result"
    }
   ],
   "source": [
    "df['IDA_status'].value_counts()"
   ]
  },
  {
   "cell_type": "code",
   "execution_count": 28,
   "id": "90fa6577",
   "metadata": {},
   "outputs": [
    {
     "data": {
      "text/plain": [
       "Anemia_status\n",
       "Non-Anemic    22323\n",
       "Anemic         2241\n",
       "Name: count, dtype: int64"
      ]
     },
     "execution_count": 28,
     "metadata": {},
     "output_type": "execute_result"
    }
   ],
   "source": [
    "df['Anemia_status'].value_counts()"
   ]
  },
  {
   "cell_type": "code",
   "execution_count": 29,
   "id": "2d7c7787",
   "metadata": {},
   "outputs": [
    {
     "data": {
      "text/plain": [
       "ID_status\n",
       "Non-ID    21716\n",
       "ID         2848\n",
       "Name: count, dtype: int64"
      ]
     },
     "execution_count": 29,
     "metadata": {},
     "output_type": "execute_result"
    }
   ],
   "source": [
    "df['ID_status'].value_counts()"
   ]
  },
  {
   "cell_type": "code",
   "execution_count": 30,
   "id": "b348e2eb",
   "metadata": {},
   "outputs": [],
   "source": [
    "# Group by 'Anemia_status' and calculate the mean of 'LBXFER'\n",
    "mean_LBXFER_levels = df.groupby('Anemia_status')['LBXHGB'].mean()"
   ]
  },
  {
   "cell_type": "code",
   "execution_count": 31,
   "id": "880abb82",
   "metadata": {},
   "outputs": [
    {
     "name": "stdout",
     "output_type": "stream",
     "text": [
      "Anemia_status\n",
      "Anemic        11.043150\n",
      "Non-Anemic    13.580424\n",
      "Name: LBXHGB, dtype: float64\n"
     ]
    }
   ],
   "source": [
    "# Display the mean LBXFER levels for non-anemic and anemic subjects\n",
    "print(mean_LBXFER_levels)"
   ]
  },
  {
   "cell_type": "code",
   "execution_count": 32,
   "id": "ef53c018",
   "metadata": {},
   "outputs": [
    {
     "name": "stdout",
     "output_type": "stream",
     "text": [
      "ID_status\n",
      "ID        11.958708\n",
      "Non-ID    13.531272\n",
      "Name: LBXHGB, dtype: float64\n"
     ]
    }
   ],
   "source": [
    "# Group by 'Anemia_status' and calculate the mean of 'LBXFER'\n",
    "mean_LBXFER_levels = df.groupby('ID_status')['LBXHGB'].mean()\n",
    "print(mean_LBXFER_levels)"
   ]
  },
  {
   "cell_type": "code",
   "execution_count": 33,
   "id": "e1f59511",
   "metadata": {},
   "outputs": [
    {
     "name": "stdout",
     "output_type": "stream",
     "text": [
      "IDA_status\n",
      "IDA        10.594095\n",
      "Non-IDA    13.469882\n",
      "Name: LBXHGB, dtype: float64\n"
     ]
    }
   ],
   "source": [
    "# Group by 'Anemia_status' and calculate the mean of 'LBXFER'\n",
    "mean_LBXFER_levels = df.groupby('IDA_status')['LBXHGB'].mean()\n",
    "print(mean_LBXFER_levels)"
   ]
  },
  {
   "cell_type": "code",
   "execution_count": 34,
   "id": "7ee9c906",
   "metadata": {},
   "outputs": [
    {
     "data": {
      "text/plain": [
       "count    24564.000000\n",
       "mean        82.726363\n",
       "std        129.420418\n",
       "min          1.040000\n",
       "25%         23.375000\n",
       "50%         43.000000\n",
       "75%         91.825000\n",
       "max       5190.000000\n",
       "Name: LBXFER, dtype: float64"
      ]
     },
     "execution_count": 34,
     "metadata": {},
     "output_type": "execute_result"
    }
   ],
   "source": [
    "df[\"LBXFER\"].describe()"
   ]
  },
  {
   "cell_type": "code",
   "execution_count": 35,
   "id": "37239d38",
   "metadata": {},
   "outputs": [
    {
     "data": {
      "text/plain": [
       "count    24564.000000\n",
       "mean        13.348946\n",
       "std          1.402461\n",
       "min          5.400000\n",
       "25%         12.500000\n",
       "50%         13.300000\n",
       "75%         14.200000\n",
       "max         19.900000\n",
       "Name: LBXHGB, dtype: float64"
      ]
     },
     "execution_count": 35,
     "metadata": {},
     "output_type": "execute_result"
    }
   ],
   "source": [
    "df[\"LBXHGB\"].describe()"
   ]
  },
  {
   "cell_type": "code",
   "execution_count": 36,
   "id": "88014067",
   "metadata": {},
   "outputs": [
    {
     "name": "stdout",
     "output_type": "stream",
     "text": [
      "[2. 1.]\n"
     ]
    }
   ],
   "source": [
    "#1 for male and 2 for female\n",
    "unique_values = df['RIAGENDR'].unique()\n",
    "print(unique_values)"
   ]
  },
  {
   "cell_type": "code",
   "execution_count": 37,
   "id": "9da98967",
   "metadata": {},
   "outputs": [],
   "source": [
    "df = df[~((df['RIAGENDR'] == 2) & (df['LBXFER'] > 150)) & ~((df['RIAGENDR'] == 1) & (df['LBXFER'] > 200))]"
   ]
  },
  {
   "cell_type": "code",
   "execution_count": 38,
   "id": "26573540",
   "metadata": {},
   "outputs": [
    {
     "name": "stdout",
     "output_type": "stream",
     "text": [
      "<class 'pandas.core.frame.DataFrame'>\n",
      "Index: 21758 entries, 1 to 66678\n",
      "Data columns (total 29 columns):\n",
      " #   Column         Non-Null Count  Dtype  \n",
      "---  ------         --------------  -----  \n",
      " 0   SEQN           21758 non-null  float64\n",
      " 1   RIAGENDR       21758 non-null  float64\n",
      " 2   RIDAGEYR       21758 non-null  float64\n",
      " 3   RIDEXPRG       21758 non-null  int64  \n",
      " 4   LBXWBCSI       21758 non-null  float64\n",
      " 5   LBXLYPCT       21758 non-null  float64\n",
      " 6   LBXMOPCT       21758 non-null  float64\n",
      " 7   LBXNEPCT       21758 non-null  float64\n",
      " 8   LBXEOPCT       21758 non-null  float64\n",
      " 9   LBXBAPCT       21758 non-null  float64\n",
      " 10  LBDLYMNO       21758 non-null  float64\n",
      " 11  LBDMONO        21758 non-null  float64\n",
      " 12  LBDNENO        21758 non-null  float64\n",
      " 13  LBDEONO        21758 non-null  float64\n",
      " 14  LBDBANO        21758 non-null  float64\n",
      " 15  LBXRBCSI       21758 non-null  float64\n",
      " 16  LBXHGB         21758 non-null  float64\n",
      " 17  LBXHCT         21758 non-null  float64\n",
      " 18  LBXMCVSI       21758 non-null  float64\n",
      " 19  LBXMC          21758 non-null  float64\n",
      " 20  LBXMCHSI       21758 non-null  float64\n",
      " 21  LBXRDW         21758 non-null  float64\n",
      " 22  LBXPLTSI       21758 non-null  float64\n",
      " 23  LBXMPSI        21758 non-null  float64\n",
      " 24  LBXFER         21758 non-null  float64\n",
      " 25  Survey_Year    21758 non-null  object \n",
      " 26  Anemia_status  21758 non-null  object \n",
      " 27  ID_status      21758 non-null  object \n",
      " 28  IDA_status     21758 non-null  object \n",
      "dtypes: float64(24), int64(1), object(4)\n",
      "memory usage: 5.0+ MB\n"
     ]
    }
   ],
   "source": [
    "df.info()"
   ]
  },
  {
   "cell_type": "code",
   "execution_count": 39,
   "id": "b5ded437",
   "metadata": {},
   "outputs": [
    {
     "name": "stdout",
     "output_type": "stream",
     "text": [
      "<class 'pandas.core.frame.DataFrame'>\n",
      "Index: 19995 entries, 1 to 66678\n",
      "Data columns (total 29 columns):\n",
      " #   Column         Non-Null Count  Dtype  \n",
      "---  ------         --------------  -----  \n",
      " 0   SEQN           19995 non-null  float64\n",
      " 1   RIAGENDR       19995 non-null  float64\n",
      " 2   RIDAGEYR       19995 non-null  float64\n",
      " 3   RIDEXPRG       19995 non-null  int64  \n",
      " 4   LBXWBCSI       19995 non-null  float64\n",
      " 5   LBXLYPCT       19995 non-null  float64\n",
      " 6   LBXMOPCT       19995 non-null  float64\n",
      " 7   LBXNEPCT       19995 non-null  float64\n",
      " 8   LBXEOPCT       19995 non-null  float64\n",
      " 9   LBXBAPCT       19995 non-null  float64\n",
      " 10  LBDLYMNO       19995 non-null  float64\n",
      " 11  LBDMONO        19995 non-null  float64\n",
      " 12  LBDNENO        19995 non-null  float64\n",
      " 13  LBDEONO        19995 non-null  float64\n",
      " 14  LBDBANO        19995 non-null  float64\n",
      " 15  LBXRBCSI       19995 non-null  float64\n",
      " 16  LBXHGB         19995 non-null  float64\n",
      " 17  LBXHCT         19995 non-null  float64\n",
      " 18  LBXMCVSI       19995 non-null  float64\n",
      " 19  LBXMC          19995 non-null  float64\n",
      " 20  LBXMCHSI       19995 non-null  float64\n",
      " 21  LBXRDW         19995 non-null  float64\n",
      " 22  LBXPLTSI       19995 non-null  float64\n",
      " 23  LBXMPSI        19995 non-null  float64\n",
      " 24  LBXFER         19995 non-null  float64\n",
      " 25  Survey_Year    19995 non-null  object \n",
      " 26  Anemia_status  19995 non-null  object \n",
      " 27  ID_status      19995 non-null  object \n",
      " 28  IDA_status     19995 non-null  object \n",
      "dtypes: float64(24), int64(1), object(4)\n",
      "memory usage: 4.6+ MB\n"
     ]
    }
   ],
   "source": [
    "# Assuming df is your DataFrame\n",
    "df = df[df['RIDAGEYR'] <= 60]\n",
    "df.info()"
   ]
  },
  {
   "cell_type": "code",
   "execution_count": 40,
   "id": "290970ee",
   "metadata": {},
   "outputs": [
    {
     "data": {
      "text/html": [
       "<div>\n",
       "<style scoped>\n",
       "    .dataframe tbody tr th:only-of-type {\n",
       "        vertical-align: middle;\n",
       "    }\n",
       "\n",
       "    .dataframe tbody tr th {\n",
       "        vertical-align: top;\n",
       "    }\n",
       "\n",
       "    .dataframe thead th {\n",
       "        text-align: right;\n",
       "    }\n",
       "</style>\n",
       "<table border=\"1\" class=\"dataframe\">\n",
       "  <thead>\n",
       "    <tr style=\"text-align: right;\">\n",
       "      <th></th>\n",
       "      <th>SEQN</th>\n",
       "      <th>RIAGENDR</th>\n",
       "      <th>RIDAGEYR</th>\n",
       "      <th>RIDEXPRG</th>\n",
       "      <th>LBXWBCSI</th>\n",
       "      <th>LBXLYPCT</th>\n",
       "      <th>LBXMOPCT</th>\n",
       "      <th>LBXNEPCT</th>\n",
       "      <th>LBXEOPCT</th>\n",
       "      <th>LBXBAPCT</th>\n",
       "      <th>...</th>\n",
       "      <th>LBXRBCSI</th>\n",
       "      <th>LBXHGB</th>\n",
       "      <th>LBXHCT</th>\n",
       "      <th>LBXMCVSI</th>\n",
       "      <th>LBXMC</th>\n",
       "      <th>LBXMCHSI</th>\n",
       "      <th>LBXRDW</th>\n",
       "      <th>LBXPLTSI</th>\n",
       "      <th>LBXMPSI</th>\n",
       "      <th>LBXFER</th>\n",
       "    </tr>\n",
       "  </thead>\n",
       "  <tbody>\n",
       "    <tr>\n",
       "      <th>count</th>\n",
       "      <td>19995.000000</td>\n",
       "      <td>19995.000000</td>\n",
       "      <td>19995.000000</td>\n",
       "      <td>19995.000000</td>\n",
       "      <td>19995.000000</td>\n",
       "      <td>19995.000000</td>\n",
       "      <td>19995.000000</td>\n",
       "      <td>19995.000000</td>\n",
       "      <td>1.999500e+04</td>\n",
       "      <td>1.999500e+04</td>\n",
       "      <td>...</td>\n",
       "      <td>19995.000000</td>\n",
       "      <td>19995.000000</td>\n",
       "      <td>19995.000000</td>\n",
       "      <td>19995.000000</td>\n",
       "      <td>19995.000000</td>\n",
       "      <td>19995.000000</td>\n",
       "      <td>19995.000000</td>\n",
       "      <td>19995.000000</td>\n",
       "      <td>19995.000000</td>\n",
       "      <td>19995.000000</td>\n",
       "    </tr>\n",
       "    <tr>\n",
       "      <th>mean</th>\n",
       "      <td>71562.792848</td>\n",
       "      <td>1.765591</td>\n",
       "      <td>23.172993</td>\n",
       "      <td>0.040810</td>\n",
       "      <td>7.581085</td>\n",
       "      <td>35.450673</td>\n",
       "      <td>7.703561</td>\n",
       "      <td>53.471818</td>\n",
       "      <td>2.734964e+00</td>\n",
       "      <td>7.088572e-01</td>\n",
       "      <td>...</td>\n",
       "      <td>4.571464</td>\n",
       "      <td>13.182926</td>\n",
       "      <td>38.986792</td>\n",
       "      <td>85.517314</td>\n",
       "      <td>33.794994</td>\n",
       "      <td>28.921780</td>\n",
       "      <td>13.274804</td>\n",
       "      <td>289.520675</td>\n",
       "      <td>7.914884</td>\n",
       "      <td>47.045779</td>\n",
       "    </tr>\n",
       "    <tr>\n",
       "      <th>std</th>\n",
       "      <td>36058.304666</td>\n",
       "      <td>0.423639</td>\n",
       "      <td>15.854133</td>\n",
       "      <td>0.197855</td>\n",
       "      <td>2.282777</td>\n",
       "      <td>11.697603</td>\n",
       "      <td>2.244527</td>\n",
       "      <td>12.790769</td>\n",
       "      <td>2.222867e+00</td>\n",
       "      <td>5.046826e-01</td>\n",
       "      <td>...</td>\n",
       "      <td>0.419355</td>\n",
       "      <td>1.311354</td>\n",
       "      <td>3.683984</td>\n",
       "      <td>6.519528</td>\n",
       "      <td>1.036476</td>\n",
       "      <td>2.589934</td>\n",
       "      <td>1.449136</td>\n",
       "      <td>78.062351</td>\n",
       "      <td>0.944651</td>\n",
       "      <td>37.577198</td>\n",
       "    </tr>\n",
       "    <tr>\n",
       "      <th>min</th>\n",
       "      <td>21006.000000</td>\n",
       "      <td>1.000000</td>\n",
       "      <td>1.000000</td>\n",
       "      <td>0.000000</td>\n",
       "      <td>1.400000</td>\n",
       "      <td>4.200000</td>\n",
       "      <td>0.700000</td>\n",
       "      <td>2.400000</td>\n",
       "      <td>5.397605e-79</td>\n",
       "      <td>5.397605e-79</td>\n",
       "      <td>...</td>\n",
       "      <td>2.610000</td>\n",
       "      <td>6.100000</td>\n",
       "      <td>20.500000</td>\n",
       "      <td>35.400000</td>\n",
       "      <td>25.200000</td>\n",
       "      <td>10.200000</td>\n",
       "      <td>6.300000</td>\n",
       "      <td>4.000000</td>\n",
       "      <td>5.000000</td>\n",
       "      <td>1.040000</td>\n",
       "    </tr>\n",
       "    <tr>\n",
       "      <th>25%</th>\n",
       "      <td>38598.000000</td>\n",
       "      <td>2.000000</td>\n",
       "      <td>12.000000</td>\n",
       "      <td>0.000000</td>\n",
       "      <td>5.900000</td>\n",
       "      <td>27.300000</td>\n",
       "      <td>6.200000</td>\n",
       "      <td>45.700000</td>\n",
       "      <td>1.300000e+00</td>\n",
       "      <td>4.000000e-01</td>\n",
       "      <td>...</td>\n",
       "      <td>4.300000</td>\n",
       "      <td>12.400000</td>\n",
       "      <td>36.600000</td>\n",
       "      <td>81.600000</td>\n",
       "      <td>33.200000</td>\n",
       "      <td>27.500000</td>\n",
       "      <td>12.400000</td>\n",
       "      <td>236.000000</td>\n",
       "      <td>7.300000</td>\n",
       "      <td>20.200000</td>\n",
       "    </tr>\n",
       "    <tr>\n",
       "      <th>50%</th>\n",
       "      <td>58295.000000</td>\n",
       "      <td>2.000000</td>\n",
       "      <td>20.000000</td>\n",
       "      <td>0.000000</td>\n",
       "      <td>7.300000</td>\n",
       "      <td>33.700000</td>\n",
       "      <td>7.400000</td>\n",
       "      <td>55.100000</td>\n",
       "      <td>2.200000e+00</td>\n",
       "      <td>6.000000e-01</td>\n",
       "      <td>...</td>\n",
       "      <td>4.550000</td>\n",
       "      <td>13.200000</td>\n",
       "      <td>38.800000</td>\n",
       "      <td>86.200000</td>\n",
       "      <td>33.800000</td>\n",
       "      <td>29.200000</td>\n",
       "      <td>13.000000</td>\n",
       "      <td>280.000000</td>\n",
       "      <td>7.900000</td>\n",
       "      <td>35.300000</td>\n",
       "    </tr>\n",
       "    <tr>\n",
       "      <th>75%</th>\n",
       "      <td>112686.500000</td>\n",
       "      <td>2.000000</td>\n",
       "      <td>36.000000</td>\n",
       "      <td>0.000000</td>\n",
       "      <td>8.800000</td>\n",
       "      <td>42.000000</td>\n",
       "      <td>8.900000</td>\n",
       "      <td>62.400000</td>\n",
       "      <td>3.400000e+00</td>\n",
       "      <td>9.000000e-01</td>\n",
       "      <td>...</td>\n",
       "      <td>4.820000</td>\n",
       "      <td>14.000000</td>\n",
       "      <td>41.300000</td>\n",
       "      <td>90.000000</td>\n",
       "      <td>34.500000</td>\n",
       "      <td>30.700000</td>\n",
       "      <td>13.800000</td>\n",
       "      <td>332.000000</td>\n",
       "      <td>8.500000</td>\n",
       "      <td>62.000000</td>\n",
       "    </tr>\n",
       "    <tr>\n",
       "      <th>max</th>\n",
       "      <td>124818.000000</td>\n",
       "      <td>2.000000</td>\n",
       "      <td>60.000000</td>\n",
       "      <td>1.000000</td>\n",
       "      <td>23.400000</td>\n",
       "      <td>84.100000</td>\n",
       "      <td>40.400000</td>\n",
       "      <td>92.300000</td>\n",
       "      <td>3.410000e+01</td>\n",
       "      <td>1.970000e+01</td>\n",
       "      <td>...</td>\n",
       "      <td>7.330000</td>\n",
       "      <td>18.100000</td>\n",
       "      <td>54.900000</td>\n",
       "      <td>116.800000</td>\n",
       "      <td>43.300000</td>\n",
       "      <td>56.200000</td>\n",
       "      <td>36.500000</td>\n",
       "      <td>1021.000000</td>\n",
       "      <td>13.500000</td>\n",
       "      <td>200.000000</td>\n",
       "    </tr>\n",
       "  </tbody>\n",
       "</table>\n",
       "<p>8 rows × 25 columns</p>\n",
       "</div>"
      ],
      "text/plain": [
       "                SEQN      RIAGENDR      RIDAGEYR      RIDEXPRG      LBXWBCSI   \n",
       "count   19995.000000  19995.000000  19995.000000  19995.000000  19995.000000  \\\n",
       "mean    71562.792848      1.765591     23.172993      0.040810      7.581085   \n",
       "std     36058.304666      0.423639     15.854133      0.197855      2.282777   \n",
       "min     21006.000000      1.000000      1.000000      0.000000      1.400000   \n",
       "25%     38598.000000      2.000000     12.000000      0.000000      5.900000   \n",
       "50%     58295.000000      2.000000     20.000000      0.000000      7.300000   \n",
       "75%    112686.500000      2.000000     36.000000      0.000000      8.800000   \n",
       "max    124818.000000      2.000000     60.000000      1.000000     23.400000   \n",
       "\n",
       "           LBXLYPCT      LBXMOPCT      LBXNEPCT      LBXEOPCT      LBXBAPCT   \n",
       "count  19995.000000  19995.000000  19995.000000  1.999500e+04  1.999500e+04  \\\n",
       "mean      35.450673      7.703561     53.471818  2.734964e+00  7.088572e-01   \n",
       "std       11.697603      2.244527     12.790769  2.222867e+00  5.046826e-01   \n",
       "min        4.200000      0.700000      2.400000  5.397605e-79  5.397605e-79   \n",
       "25%       27.300000      6.200000     45.700000  1.300000e+00  4.000000e-01   \n",
       "50%       33.700000      7.400000     55.100000  2.200000e+00  6.000000e-01   \n",
       "75%       42.000000      8.900000     62.400000  3.400000e+00  9.000000e-01   \n",
       "max       84.100000     40.400000     92.300000  3.410000e+01  1.970000e+01   \n",
       "\n",
       "       ...      LBXRBCSI        LBXHGB        LBXHCT      LBXMCVSI   \n",
       "count  ...  19995.000000  19995.000000  19995.000000  19995.000000  \\\n",
       "mean   ...      4.571464     13.182926     38.986792     85.517314   \n",
       "std    ...      0.419355      1.311354      3.683984      6.519528   \n",
       "min    ...      2.610000      6.100000     20.500000     35.400000   \n",
       "25%    ...      4.300000     12.400000     36.600000     81.600000   \n",
       "50%    ...      4.550000     13.200000     38.800000     86.200000   \n",
       "75%    ...      4.820000     14.000000     41.300000     90.000000   \n",
       "max    ...      7.330000     18.100000     54.900000    116.800000   \n",
       "\n",
       "              LBXMC      LBXMCHSI        LBXRDW      LBXPLTSI       LBXMPSI   \n",
       "count  19995.000000  19995.000000  19995.000000  19995.000000  19995.000000  \\\n",
       "mean      33.794994     28.921780     13.274804    289.520675      7.914884   \n",
       "std        1.036476      2.589934      1.449136     78.062351      0.944651   \n",
       "min       25.200000     10.200000      6.300000      4.000000      5.000000   \n",
       "25%       33.200000     27.500000     12.400000    236.000000      7.300000   \n",
       "50%       33.800000     29.200000     13.000000    280.000000      7.900000   \n",
       "75%       34.500000     30.700000     13.800000    332.000000      8.500000   \n",
       "max       43.300000     56.200000     36.500000   1021.000000     13.500000   \n",
       "\n",
       "             LBXFER  \n",
       "count  19995.000000  \n",
       "mean      47.045779  \n",
       "std       37.577198  \n",
       "min        1.040000  \n",
       "25%       20.200000  \n",
       "50%       35.300000  \n",
       "75%       62.000000  \n",
       "max      200.000000  \n",
       "\n",
       "[8 rows x 25 columns]"
      ]
     },
     "execution_count": 40,
     "metadata": {},
     "output_type": "execute_result"
    }
   ],
   "source": [
    "df.describe()"
   ]
  },
  {
   "cell_type": "code",
   "execution_count": 41,
   "id": "40289b84",
   "metadata": {},
   "outputs": [
    {
     "data": {
      "text/plain": [
       "Index(['SEQN', 'RIAGENDR', 'RIDAGEYR', 'RIDEXPRG', 'LBXWBCSI', 'LBXLYPCT',\n",
       "       'LBXMOPCT', 'LBXNEPCT', 'LBXEOPCT', 'LBXBAPCT', 'LBDLYMNO', 'LBDMONO',\n",
       "       'LBDNENO', 'LBDEONO', 'LBDBANO', 'LBXRBCSI', 'LBXHGB', 'LBXHCT',\n",
       "       'LBXMCVSI', 'LBXMC', 'LBXMCHSI', 'LBXRDW', 'LBXPLTSI', 'LBXMPSI',\n",
       "       'LBXFER', 'Survey_Year', 'Anemia_status', 'ID_status', 'IDA_status'],\n",
       "      dtype='object')"
      ]
     },
     "execution_count": 41,
     "metadata": {},
     "output_type": "execute_result"
    }
   ],
   "source": [
    "df.columns"
   ]
  },
  {
   "cell_type": "code",
   "execution_count": 42,
   "id": "8c230544",
   "metadata": {},
   "outputs": [
    {
     "data": {
      "text/plain": [
       "array(['Non-IDA', 'IDA'], dtype=object)"
      ]
     },
     "execution_count": 42,
     "metadata": {},
     "output_type": "execute_result"
    }
   ],
   "source": [
    "df['IDA_status'].unique()"
   ]
  },
  {
   "cell_type": "code",
   "execution_count": 43,
   "id": "81ee4cd7",
   "metadata": {},
   "outputs": [],
   "source": [
    "def IDA_Status(data):\n",
    "    if data == \"IDA\":\n",
    "        return 1\n",
    "    elif data == \"Non-IDA\":\n",
    "        return 0"
   ]
  },
  {
   "cell_type": "code",
   "execution_count": 44,
   "id": "29b91a14",
   "metadata": {},
   "outputs": [],
   "source": [
    "df[\"IDA_Status\"] = df[\"IDA_status\"].apply(IDA_Status)"
   ]
  },
  {
   "cell_type": "code",
   "execution_count": 45,
   "id": "c2806486",
   "metadata": {},
   "outputs": [
    {
     "data": {
      "text/plain": [
       "array([0, 1])"
      ]
     },
     "execution_count": 45,
     "metadata": {},
     "output_type": "execute_result"
    }
   ],
   "source": [
    "df[\"IDA_Status\"].unique()"
   ]
  },
  {
   "cell_type": "code",
   "execution_count": 46,
   "id": "a8c45d75",
   "metadata": {},
   "outputs": [],
   "source": [
    "# Assuming df is the DataFrame you want to save\n",
    "output_path = r\"cleaned_data_with_categorical_variables.csv\""
   ]
  },
  {
   "cell_type": "code",
   "execution_count": 47,
   "id": "efd2d7da",
   "metadata": {},
   "outputs": [
    {
     "name": "stdout",
     "output_type": "stream",
     "text": [
      "DataFrame saved to: cleaned_data_with_categorical_variables.csv\n"
     ]
    }
   ],
   "source": [
    "# Save the DataFrame to a CSV file\n",
    "df.to_csv(output_path, index=False)\n",
    "\n",
    "print(f\"DataFrame saved to: {output_path}\")"
   ]
  },
  {
   "cell_type": "code",
   "execution_count": 48,
   "id": "a9782792",
   "metadata": {},
   "outputs": [
    {
     "data": {
      "text/plain": [
       "IDA_status\n",
       "Non-IDA    18996\n",
       "IDA          999\n",
       "Name: count, dtype: int64"
      ]
     },
     "execution_count": 48,
     "metadata": {},
     "output_type": "execute_result"
    }
   ],
   "source": [
    "df['IDA_status'].value_counts()"
   ]
  },
  {
   "cell_type": "code",
   "execution_count": null,
   "id": "d8d5a3d9",
   "metadata": {},
   "outputs": [],
   "source": []
  }
 ],
 "metadata": {
  "kernelspec": {
   "display_name": "Python 3 (ipykernel)",
   "language": "python",
   "name": "python3"
  },
  "language_info": {
   "codemirror_mode": {
    "name": "ipython",
    "version": 3
   },
   "file_extension": ".py",
   "mimetype": "text/x-python",
   "name": "python",
   "nbconvert_exporter": "python",
   "pygments_lexer": "ipython3",
   "version": "3.10.11"
  }
 },
 "nbformat": 4,
 "nbformat_minor": 5
}
