{
 "cells": [
  {
   "cell_type": "code",
   "execution_count": 1,
   "id": "74123b93",
   "metadata": {},
   "outputs": [],
   "source": [
    "import pandas as pd\n",
    "import pickle\n",
    "from sklearn.metrics import accuracy_score, precision_score, recall_score, confusion_matrix, classification_report"
   ]
  },
  {
   "cell_type": "code",
   "execution_count": 5,
   "id": "1becb600",
   "metadata": {},
   "outputs": [],
   "source": [
    "dff1 = pd.read_excel(\"Kenya data with all variables.xlsx\")"
   ]
  },
  {
   "cell_type": "code",
   "execution_count": 6,
   "id": "202f907b",
   "metadata": {},
   "outputs": [
    {
     "data": {
      "text/html": [
       "<div>\n",
       "<style scoped>\n",
       "    .dataframe tbody tr th:only-of-type {\n",
       "        vertical-align: middle;\n",
       "    }\n",
       "\n",
       "    .dataframe tbody tr th {\n",
       "        vertical-align: top;\n",
       "    }\n",
       "\n",
       "    .dataframe thead th {\n",
       "        text-align: right;\n",
       "    }\n",
       "</style>\n",
       "<table border=\"1\" class=\"dataframe\">\n",
       "  <thead>\n",
       "    <tr style=\"text-align: right;\">\n",
       "      <th></th>\n",
       "      <th>RIDAGEYR</th>\n",
       "      <th>RIAGENDR</th>\n",
       "      <th>RIDEXPRG</th>\n",
       "      <th>LBXRBCSI</th>\n",
       "      <th>LBXHGB</th>\n",
       "      <th>LBXHCT</th>\n",
       "      <th>LBXMCVSI</th>\n",
       "      <th>LBXMC</th>\n",
       "      <th>LBXMCHSI</th>\n",
       "      <th>LBXRDW</th>\n",
       "      <th>LBDLYMNO</th>\n",
       "      <th>LBDMONO</th>\n",
       "      <th>LBXFER</th>\n",
       "      <th>Anemia</th>\n",
       "      <th>ID</th>\n",
       "      <th>IDA</th>\n",
       "      <th>IDA_Status</th>\n",
       "    </tr>\n",
       "  </thead>\n",
       "  <tbody>\n",
       "    <tr>\n",
       "      <th>0</th>\n",
       "      <td>18</td>\n",
       "      <td>2</td>\n",
       "      <td>0</td>\n",
       "      <td>4.68</td>\n",
       "      <td>15.0</td>\n",
       "      <td>44.0</td>\n",
       "      <td>94</td>\n",
       "      <td>32</td>\n",
       "      <td>34</td>\n",
       "      <td>12.6</td>\n",
       "      <td>1.91</td>\n",
       "      <td>0.27</td>\n",
       "      <td>27</td>\n",
       "      <td>Non_Anemic</td>\n",
       "      <td>Non_ID</td>\n",
       "      <td>Non-IDA</td>\n",
       "      <td>0</td>\n",
       "    </tr>\n",
       "    <tr>\n",
       "      <th>1</th>\n",
       "      <td>20</td>\n",
       "      <td>1</td>\n",
       "      <td>0</td>\n",
       "      <td>6.31</td>\n",
       "      <td>19.2</td>\n",
       "      <td>56.0</td>\n",
       "      <td>89</td>\n",
       "      <td>30</td>\n",
       "      <td>34</td>\n",
       "      <td>12.3</td>\n",
       "      <td>2.80</td>\n",
       "      <td>0.35</td>\n",
       "      <td>126</td>\n",
       "      <td>Non_Anemic</td>\n",
       "      <td>Non_ID</td>\n",
       "      <td>Non-IDA</td>\n",
       "      <td>0</td>\n",
       "    </tr>\n",
       "    <tr>\n",
       "      <th>2</th>\n",
       "      <td>20</td>\n",
       "      <td>1</td>\n",
       "      <td>0</td>\n",
       "      <td>6.26</td>\n",
       "      <td>18.2</td>\n",
       "      <td>54.0</td>\n",
       "      <td>87</td>\n",
       "      <td>29</td>\n",
       "      <td>33</td>\n",
       "      <td>12.9</td>\n",
       "      <td>2.46</td>\n",
       "      <td>0.45</td>\n",
       "      <td>111</td>\n",
       "      <td>Non_Anemic</td>\n",
       "      <td>Non_ID</td>\n",
       "      <td>Non-IDA</td>\n",
       "      <td>0</td>\n",
       "    </tr>\n",
       "    <tr>\n",
       "      <th>3</th>\n",
       "      <td>20</td>\n",
       "      <td>1</td>\n",
       "      <td>0</td>\n",
       "      <td>5.43</td>\n",
       "      <td>17.2</td>\n",
       "      <td>49.0</td>\n",
       "      <td>91</td>\n",
       "      <td>32</td>\n",
       "      <td>35</td>\n",
       "      <td>12.3</td>\n",
       "      <td>1.59</td>\n",
       "      <td>0.59</td>\n",
       "      <td>22</td>\n",
       "      <td>Non_Anemic</td>\n",
       "      <td>Non_ID</td>\n",
       "      <td>Non-IDA</td>\n",
       "      <td>0</td>\n",
       "    </tr>\n",
       "    <tr>\n",
       "      <th>4</th>\n",
       "      <td>20</td>\n",
       "      <td>1</td>\n",
       "      <td>0</td>\n",
       "      <td>5.66</td>\n",
       "      <td>16.7</td>\n",
       "      <td>50.0</td>\n",
       "      <td>88</td>\n",
       "      <td>30</td>\n",
       "      <td>34</td>\n",
       "      <td>13.0</td>\n",
       "      <td>2.53</td>\n",
       "      <td>0.58</td>\n",
       "      <td>37</td>\n",
       "      <td>Non_Anemic</td>\n",
       "      <td>Non_ID</td>\n",
       "      <td>Non-IDA</td>\n",
       "      <td>0</td>\n",
       "    </tr>\n",
       "  </tbody>\n",
       "</table>\n",
       "</div>"
      ],
      "text/plain": [
       "   RIDAGEYR  RIAGENDR  RIDEXPRG  LBXRBCSI  LBXHGB  LBXHCT  LBXMCVSI  LBXMC   \n",
       "0        18         2         0      4.68    15.0    44.0        94     32  \\\n",
       "1        20         1         0      6.31    19.2    56.0        89     30   \n",
       "2        20         1         0      6.26    18.2    54.0        87     29   \n",
       "3        20         1         0      5.43    17.2    49.0        91     32   \n",
       "4        20         1         0      5.66    16.7    50.0        88     30   \n",
       "\n",
       "   LBXMCHSI  LBXRDW  LBDLYMNO  LBDMONO  LBXFER      Anemia      ID      IDA   \n",
       "0        34    12.6      1.91     0.27      27  Non_Anemic  Non_ID  Non-IDA  \\\n",
       "1        34    12.3      2.80     0.35     126  Non_Anemic  Non_ID  Non-IDA   \n",
       "2        33    12.9      2.46     0.45     111  Non_Anemic  Non_ID  Non-IDA   \n",
       "3        35    12.3      1.59     0.59      22  Non_Anemic  Non_ID  Non-IDA   \n",
       "4        34    13.0      2.53     0.58      37  Non_Anemic  Non_ID  Non-IDA   \n",
       "\n",
       "   IDA_Status  \n",
       "0           0  \n",
       "1           0  \n",
       "2           0  \n",
       "3           0  \n",
       "4           0  "
      ]
     },
     "execution_count": 6,
     "metadata": {},
     "output_type": "execute_result"
    }
   ],
   "source": [
    "dff1.head()"
   ]
  },
  {
   "cell_type": "code",
   "execution_count": 7,
   "id": "7eb782b4",
   "metadata": {},
   "outputs": [
    {
     "data": {
      "text/plain": [
       "(502, 17)"
      ]
     },
     "execution_count": 7,
     "metadata": {},
     "output_type": "execute_result"
    }
   ],
   "source": [
    "dff1.shape"
   ]
  },
  {
   "cell_type": "code",
   "execution_count": 8,
   "id": "b3331e62",
   "metadata": {},
   "outputs": [
    {
     "data": {
      "text/plain": [
       "Index(['RIDAGEYR', 'RIAGENDR', 'RIDEXPRG', 'LBXRBCSI', 'LBXHGB', 'LBXHCT',\n",
       "       'LBXMCVSI', 'LBXMC', 'LBXMCHSI', 'LBXRDW', 'LBDLYMNO', 'LBDMONO',\n",
       "       'LBXFER', 'Anemia', 'ID', 'IDA', 'IDA_Status'],\n",
       "      dtype='object')"
      ]
     },
     "execution_count": 8,
     "metadata": {},
     "output_type": "execute_result"
    }
   ],
   "source": [
    "dff1.columns"
   ]
  },
  {
   "cell_type": "code",
   "execution_count": 9,
   "id": "1f4bb6d2",
   "metadata": {},
   "outputs": [
    {
     "data": {
      "text/plain": [
       "IDA_Status\n",
       "0    483\n",
       "1     19\n",
       "Name: count, dtype: int64"
      ]
     },
     "execution_count": 9,
     "metadata": {},
     "output_type": "execute_result"
    }
   ],
   "source": [
    "dff1['IDA_Status'].value_counts()"
   ]
  },
  {
   "cell_type": "code",
   "execution_count": 10,
   "id": "e2944233",
   "metadata": {},
   "outputs": [],
   "source": [
    "columns = ['RIAGENDR', 'RIDAGEYR', 'RIDEXPRG', 'LBDMONO', 'LBXHGB', 'LBXHCT',\n",
    "       'LBXMCVSI', 'LBXMCHSI', 'LBXRDW']"
   ]
  },
  {
   "cell_type": "code",
   "execution_count": 11,
   "id": "9622629d",
   "metadata": {},
   "outputs": [],
   "source": [
    "new_data = dff1[columns]"
   ]
  },
  {
   "cell_type": "code",
   "execution_count": 12,
   "id": "f7086b5a",
   "metadata": {},
   "outputs": [
    {
     "data": {
      "text/html": [
       "<div>\n",
       "<style scoped>\n",
       "    .dataframe tbody tr th:only-of-type {\n",
       "        vertical-align: middle;\n",
       "    }\n",
       "\n",
       "    .dataframe tbody tr th {\n",
       "        vertical-align: top;\n",
       "    }\n",
       "\n",
       "    .dataframe thead th {\n",
       "        text-align: right;\n",
       "    }\n",
       "</style>\n",
       "<table border=\"1\" class=\"dataframe\">\n",
       "  <thead>\n",
       "    <tr style=\"text-align: right;\">\n",
       "      <th></th>\n",
       "      <th>RIAGENDR</th>\n",
       "      <th>RIDAGEYR</th>\n",
       "      <th>RIDEXPRG</th>\n",
       "      <th>LBDMONO</th>\n",
       "      <th>LBXHGB</th>\n",
       "      <th>LBXHCT</th>\n",
       "      <th>LBXMCVSI</th>\n",
       "      <th>LBXMCHSI</th>\n",
       "      <th>LBXRDW</th>\n",
       "    </tr>\n",
       "  </thead>\n",
       "  <tbody>\n",
       "    <tr>\n",
       "      <th>0</th>\n",
       "      <td>2</td>\n",
       "      <td>18</td>\n",
       "      <td>0</td>\n",
       "      <td>0.27</td>\n",
       "      <td>15.0</td>\n",
       "      <td>44.0</td>\n",
       "      <td>94</td>\n",
       "      <td>34</td>\n",
       "      <td>12.6</td>\n",
       "    </tr>\n",
       "    <tr>\n",
       "      <th>1</th>\n",
       "      <td>1</td>\n",
       "      <td>20</td>\n",
       "      <td>0</td>\n",
       "      <td>0.35</td>\n",
       "      <td>19.2</td>\n",
       "      <td>56.0</td>\n",
       "      <td>89</td>\n",
       "      <td>34</td>\n",
       "      <td>12.3</td>\n",
       "    </tr>\n",
       "    <tr>\n",
       "      <th>2</th>\n",
       "      <td>1</td>\n",
       "      <td>20</td>\n",
       "      <td>0</td>\n",
       "      <td>0.45</td>\n",
       "      <td>18.2</td>\n",
       "      <td>54.0</td>\n",
       "      <td>87</td>\n",
       "      <td>33</td>\n",
       "      <td>12.9</td>\n",
       "    </tr>\n",
       "    <tr>\n",
       "      <th>3</th>\n",
       "      <td>1</td>\n",
       "      <td>20</td>\n",
       "      <td>0</td>\n",
       "      <td>0.59</td>\n",
       "      <td>17.2</td>\n",
       "      <td>49.0</td>\n",
       "      <td>91</td>\n",
       "      <td>35</td>\n",
       "      <td>12.3</td>\n",
       "    </tr>\n",
       "    <tr>\n",
       "      <th>4</th>\n",
       "      <td>1</td>\n",
       "      <td>20</td>\n",
       "      <td>0</td>\n",
       "      <td>0.58</td>\n",
       "      <td>16.7</td>\n",
       "      <td>50.0</td>\n",
       "      <td>88</td>\n",
       "      <td>34</td>\n",
       "      <td>13.0</td>\n",
       "    </tr>\n",
       "  </tbody>\n",
       "</table>\n",
       "</div>"
      ],
      "text/plain": [
       "   RIAGENDR  RIDAGEYR  RIDEXPRG  LBDMONO  LBXHGB  LBXHCT  LBXMCVSI  LBXMCHSI   \n",
       "0         2        18         0     0.27    15.0    44.0        94        34  \\\n",
       "1         1        20         0     0.35    19.2    56.0        89        34   \n",
       "2         1        20         0     0.45    18.2    54.0        87        33   \n",
       "3         1        20         0     0.59    17.2    49.0        91        35   \n",
       "4         1        20         0     0.58    16.7    50.0        88        34   \n",
       "\n",
       "   LBXRDW  \n",
       "0    12.6  \n",
       "1    12.3  \n",
       "2    12.9  \n",
       "3    12.3  \n",
       "4    13.0  "
      ]
     },
     "execution_count": 12,
     "metadata": {},
     "output_type": "execute_result"
    }
   ],
   "source": [
    "new_data.head()"
   ]
  },
  {
   "cell_type": "code",
   "execution_count": 13,
   "id": "aaf53164",
   "metadata": {},
   "outputs": [
    {
     "name": "stdout",
     "output_type": "stream",
     "text": [
      "<class 'pandas.core.frame.DataFrame'>\n",
      "RangeIndex: 502 entries, 0 to 501\n",
      "Data columns (total 9 columns):\n",
      " #   Column    Non-Null Count  Dtype  \n",
      "---  ------    --------------  -----  \n",
      " 0   RIAGENDR  502 non-null    int64  \n",
      " 1   RIDAGEYR  502 non-null    int64  \n",
      " 2   RIDEXPRG  502 non-null    int64  \n",
      " 3   LBDMONO   502 non-null    float64\n",
      " 4   LBXHGB    502 non-null    float64\n",
      " 5   LBXHCT    502 non-null    float64\n",
      " 6   LBXMCVSI  502 non-null    int64  \n",
      " 7   LBXMCHSI  502 non-null    int64  \n",
      " 8   LBXRDW    502 non-null    float64\n",
      "dtypes: float64(4), int64(5)\n",
      "memory usage: 35.4 KB\n"
     ]
    }
   ],
   "source": [
    "new_data.info()"
   ]
  },
  {
   "cell_type": "code",
   "execution_count": 14,
   "id": "3584f568",
   "metadata": {},
   "outputs": [],
   "source": [
    "y = dff1['IDA_Status']"
   ]
  },
  {
   "cell_type": "code",
   "execution_count": 15,
   "id": "a9bca960",
   "metadata": {},
   "outputs": [
    {
     "ename": "ModuleNotFoundError",
     "evalue": "No module named 'sklearn.ensemble._gb_losses'",
     "output_type": "error",
     "traceback": [
      "\u001b[0;31m---------------------------------------------------------------------------\u001b[0m",
      "\u001b[0;31mModuleNotFoundError\u001b[0m                       Traceback (most recent call last)",
      "Cell \u001b[0;32mIn[15], line 5\u001b[0m\n\u001b[1;32m      3\u001b[0m \u001b[38;5;66;03m# Load the data from the pickle file\u001b[39;00m\n\u001b[1;32m      4\u001b[0m \u001b[38;5;28;01mwith\u001b[39;00m \u001b[38;5;28mopen\u001b[39m(pickle_file_path, \u001b[38;5;124m'\u001b[39m\u001b[38;5;124mrb\u001b[39m\u001b[38;5;124m'\u001b[39m) \u001b[38;5;28;01mas\u001b[39;00m file:\n\u001b[0;32m----> 5\u001b[0m     model \u001b[38;5;241m=\u001b[39m \u001b[43mpickle\u001b[49m\u001b[38;5;241;43m.\u001b[39;49m\u001b[43mload\u001b[49m\u001b[43m(\u001b[49m\u001b[43mfile\u001b[49m\u001b[43m)\u001b[49m\n",
      "\u001b[0;31mModuleNotFoundError\u001b[0m: No module named 'sklearn.ensemble._gb_losses'"
     ]
    }
   ],
   "source": [
    "pickle_file_path = 'gradient_boosting_model_with_oversampling.pkl'\n",
    "\n",
    "# Load the data from the pickle file\n",
    "with open(pickle_file_path, 'rb') as file:\n",
    "    model = pickle.load(file)"
   ]
  },
  {
   "cell_type": "code",
   "execution_count": 12,
   "id": "8377bfd7",
   "metadata": {},
   "outputs": [
    {
     "name": "stderr",
     "output_type": "stream",
     "text": [
      "/Library/Frameworks/Python.framework/Versions/3.10/lib/python3.10/site-packages/sklearn/base.py:432: UserWarning: X has feature names, but GradientBoostingClassifier was fitted without feature names\n",
      "  warnings.warn(\n"
     ]
    }
   ],
   "source": [
    "y_pred = model.predict(new_data)"
   ]
  },
  {
   "cell_type": "code",
   "execution_count": 13,
   "id": "05bfe62c",
   "metadata": {},
   "outputs": [
    {
     "data": {
      "text/plain": [
       "array([0, 0, 0, 0, 0, 1, 0, 0, 0, 0, 0, 0, 0, 0, 0, 0, 0, 0, 0, 0, 0, 0,\n",
       "       0, 0, 0, 0, 0, 0, 0, 0, 0, 0, 0, 0, 0, 0, 0, 0, 0, 0, 0, 0, 0, 0,\n",
       "       0, 0, 0, 0, 0, 0, 0, 0, 0, 0, 0, 0, 0, 0, 0, 0, 0, 0, 0, 0, 0, 0,\n",
       "       0, 0, 1, 0, 0, 0, 0, 0, 0, 0, 0, 0, 0, 0, 0, 0, 0, 0, 0, 0, 0, 0,\n",
       "       0, 0, 0, 0, 0, 0, 0, 0, 0, 0, 0, 0, 1, 0, 0, 0, 0, 0, 0, 0, 0, 0,\n",
       "       0, 0, 0, 1, 0, 0, 0, 0, 0, 0, 0, 0, 0, 0, 0, 0, 0, 0, 1, 0, 0, 0,\n",
       "       0, 0, 0, 0, 0, 0, 1, 0, 0, 0, 0, 0, 0, 0, 0, 0, 0, 0, 0, 1, 0, 0,\n",
       "       0, 0, 0, 0, 0, 0, 0, 0, 0, 0, 0, 1, 0, 0, 0, 0, 0, 0, 0, 0, 0, 0,\n",
       "       0, 1, 0, 0, 0, 0, 0, 0, 0, 0, 0, 0, 0, 1, 0, 0, 0, 0, 0, 0, 0, 0,\n",
       "       0, 0, 0, 0, 0, 0, 0, 0, 0, 0, 0, 0, 0, 0, 0, 0, 0, 0, 0, 0, 0, 0,\n",
       "       0, 0, 0, 0, 0, 0, 0, 0, 0, 0, 0, 1, 0, 0, 0, 0, 0, 0, 0, 0, 0, 0,\n",
       "       0, 0, 0, 0, 0, 0, 0, 0, 1, 0, 0, 0, 0, 0, 0, 0, 0, 0, 0, 0, 0, 0,\n",
       "       0, 0, 0, 0, 0, 0, 0, 0, 1, 1, 1, 0, 0, 0, 0, 0, 0, 0, 0, 0, 0, 0,\n",
       "       0, 0, 0, 0, 0, 1, 0, 0, 0, 0, 0, 0, 0, 0, 0, 0, 0, 0, 0, 0, 1, 0,\n",
       "       0, 0, 0, 0, 0, 0, 0, 0, 0, 0, 0, 0, 0, 0, 0, 0, 0, 0, 0, 0, 0, 0,\n",
       "       0, 0, 0, 0, 0, 0, 0, 0, 0, 0, 0, 0, 0, 0, 0, 0, 0, 0, 0, 0, 0, 0,\n",
       "       1, 0, 0, 0, 0, 0, 0, 0, 0, 0, 0, 0, 0, 0, 0, 1, 0, 0, 0, 0, 0, 0,\n",
       "       0, 1, 0, 0, 0, 0, 0, 0, 0, 0, 0, 0, 0, 0, 0, 0, 0, 0, 0, 0, 0, 0,\n",
       "       0, 0, 0, 0, 0, 0, 0, 0, 0, 0, 0, 0, 0, 0, 0, 0, 0, 0, 0, 0, 0, 0,\n",
       "       0, 0, 0, 0, 0, 0, 0, 0, 0, 0, 0, 0, 0, 0, 0, 0, 0, 0, 0, 0, 0, 0,\n",
       "       0, 0, 0, 0, 0, 0, 0, 0, 0, 0, 0, 0, 0, 0, 0, 0, 0, 0, 0, 0, 0, 0,\n",
       "       0, 0, 0, 0, 0, 0, 0, 0, 0, 0, 0, 0, 0, 0, 0, 0, 0, 0, 0, 0, 0, 0,\n",
       "       0, 0, 0, 0, 0, 0, 0, 0, 0, 0, 0, 0, 0, 0, 0, 0, 0, 0])"
      ]
     },
     "execution_count": 13,
     "metadata": {},
     "output_type": "execute_result"
    }
   ],
   "source": [
    "y_pred"
   ]
  },
  {
   "cell_type": "code",
   "execution_count": 14,
   "id": "443e0e8d",
   "metadata": {},
   "outputs": [
    {
     "name": "stdout",
     "output_type": "stream",
     "text": [
      "CM:[[479   4]\n",
      " [  3  16]]\n",
      "Accuracy :0.9860557768924303\n",
      "Precision :0.8\n",
      "recall :0.8421052631578947\n"
     ]
    }
   ],
   "source": [
    "cr = classification_report(y, y_pred, output_dict=True)\n",
    "cm = confusion_matrix(y, y_pred)\n",
    "\n",
    "# Evaluate performance\n",
    "accuracy = accuracy_score(y, y_pred)\n",
    "precision = precision_score(y, y_pred)\n",
    "recall = recall_score(y, y_pred)\n",
    "\n",
    "print(f\"CM:{cm}\")\n",
    "print(f\"Accuracy :{accuracy}\")\n",
    "print(f\"Precision :{precision}\")\n",
    "print(f\"recall :{recall}\")"
   ]
  },
  {
   "cell_type": "code",
   "execution_count": null,
   "id": "a53c311e",
   "metadata": {},
   "outputs": [],
   "source": []
  }
 ],
 "metadata": {
  "kernelspec": {
   "display_name": "Python 3 (ipykernel)",
   "language": "python",
   "name": "python3"
  },
  "language_info": {
   "codemirror_mode": {
    "name": "ipython",
    "version": 3
   },
   "file_extension": ".py",
   "mimetype": "text/x-python",
   "name": "python",
   "nbconvert_exporter": "python",
   "pygments_lexer": "ipython3",
   "version": "3.10.11"
  }
 },
 "nbformat": 4,
 "nbformat_minor": 5
}
